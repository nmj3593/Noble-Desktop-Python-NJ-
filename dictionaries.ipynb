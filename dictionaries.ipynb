{
 "cells": [
  {
   "cell_type": "code",
   "execution_count": 8,
   "id": "98112583",
   "metadata": {},
   "outputs": [
    {
     "data": {
      "text/plain": [
       "3"
      ]
     },
     "execution_count": 8,
     "metadata": {},
     "output_type": "execute_result"
    }
   ],
   "source": [
    "word = \"banana\"\n",
    "count = 0\n",
    "for i in word:\n",
    "    if i ==\"a\":\n",
    "        count = count + 1\n",
    "count"
   ]
  },
  {
   "cell_type": "code",
   "execution_count": null,
   "id": "440c8871",
   "metadata": {},
   "outputs": [],
   "source": [
    "for i in word"
   ]
  },
  {
   "cell_type": "code",
   "execution_count": null,
   "id": "6ac653dc",
   "metadata": {},
   "outputs": [],
   "source": [
    "alist = [\"banana\", \"banana\",\"banana\", \"apple\"]"
   ]
  },
  {
   "cell_type": "code",
   "execution_count": null,
   "id": "a9a11b9a",
   "metadata": {},
   "outputs": [],
   "source": [
    "for i in range (len(alist)):\n",
    "    print (i)\n",
    "    print (alist[i])"
   ]
  },
  {
   "cell_type": "code",
   "execution_count": 1,
   "id": "0da12a94",
   "metadata": {},
   "outputs": [
    {
     "data": {
      "text/plain": [
       "{'hamburger': 7.99, 'fries': 4.99, 'nachos': 8.99}"
      ]
     },
     "execution_count": 1,
     "metadata": {},
     "output_type": "execute_result"
    }
   ],
   "source": [
    "menu = {}\n",
    "menu [\"hamburger\"] = 7.99\n",
    "menu [\"fries\"] = 4.99\n",
    "menu [\"nachos\"] = 8.99\n",
    "menu"
   ]
  },
  {
   "cell_type": "code",
   "execution_count": 2,
   "id": "d2a88f59",
   "metadata": {},
   "outputs": [
    {
     "name": "stdout",
     "output_type": "stream",
     "text": [
      "what would you like to eat?hamburger\n",
      "what else would you like?fries\n"
     ]
    }
   ],
   "source": [
    "item1 = input(\"what would you like to eat?\")\n",
    "item2 = input(\"what else would you like?\")\n",
    "total = menu[item1] + menu[item2]\n",
    "\n",
    "total"
   ]
  },
  {
   "cell_type": "code",
   "execution_count": 7,
   "id": "bdf98312",
   "metadata": {},
   "outputs": [
    {
     "name": "stdout",
     "output_type": "stream",
     "text": [
      "7.99\n",
      "4.99\n",
      "8.99\n"
     ]
    }
   ],
   "source": [
    "for i in menu:\n",
    "    print (menu[i])"
   ]
  },
  {
   "cell_type": "code",
   "execution_count": 22,
   "id": "ea88135a",
   "metadata": {},
   "outputs": [],
   "source": [
    "word =\"banana\"\n",
    "d={}\n",
    "count = 0"
   ]
  },
  {
   "cell_type": "code",
   "execution_count": 24,
   "id": "8d5970b2",
   "metadata": {},
   "outputs": [
    {
     "data": {
      "text/plain": [
       "{'b': 1, 'a': 3, 'n': 2}"
      ]
     },
     "execution_count": 24,
     "metadata": {},
     "output_type": "execute_result"
    }
   ],
   "source": [
    "for i in word:\n",
    "    if i in d:\n",
    "        d[i] = d[i] + 1\n",
    "    else:\n",
    "        d[i] = 1\n",
    "d"
   ]
  },
  {
   "cell_type": "code",
   "execution_count": 36,
   "id": "80ea1022",
   "metadata": {},
   "outputs": [
    {
     "name": "stdout",
     "output_type": "stream",
     "text": [
      "   1    2    3    4    5    6    7    8    9   10 \n",
      "   2    4    6    8   10   12   14   16   18   20 \n",
      "   3    6    9   12   15   18   21   24   27   30 \n",
      "   4    8   12   16   20   24   28   32   36   40 \n",
      "   5   10   15   20   25   30   35   40   45   50 \n",
      "   6   12   18   24   30   36   42   48   54   60 \n",
      "   7   14   21   28   35   42   49   56   63   70 \n",
      "   8   16   24   32   40   48   56   64   72   80 \n",
      "   9   18   27   36   45   54   63   72   81   90 \n",
      "  10   20   30   40   50   60   70   80   90  100 \n"
     ]
    }
   ],
   "source": [
    "for i in range(1,11):\n",
    "    for j in range (1,11):\n",
    "        print(f\"{i*j:4}\", end= ' ')\n",
    "    print()"
   ]
  },
  {
   "cell_type": "code",
   "execution_count": null,
   "id": "1aa48f32",
   "metadata": {},
   "outputs": [],
   "source": []
  }
 ],
 "metadata": {
  "kernelspec": {
   "display_name": "Python 3 (ipykernel)",
   "language": "python",
   "name": "python3"
  },
  "language_info": {
   "codemirror_mode": {
    "name": "ipython",
    "version": 3
   },
   "file_extension": ".py",
   "mimetype": "text/x-python",
   "name": "python",
   "nbconvert_exporter": "python",
   "pygments_lexer": "ipython3",
   "version": "3.10.9"
  }
 },
 "nbformat": 4,
 "nbformat_minor": 5
}
