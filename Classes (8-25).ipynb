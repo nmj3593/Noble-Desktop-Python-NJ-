{
 "cells": [
  {
   "cell_type": "code",
   "execution_count": 1,
   "id": "21b6754b",
   "metadata": {},
   "outputs": [],
   "source": [
    "# class"
   ]
  },
  {
   "cell_type": "code",
   "execution_count": 2,
   "id": "166db30f",
   "metadata": {},
   "outputs": [],
   "source": [
    "class Car: \n",
    "    def __init__(self, make, model, color):\n",
    "        self.make = make\n",
    "        self.model = model\n",
    "        self.color = color"
   ]
  },
  {
   "cell_type": "code",
   "execution_count": 3,
   "id": "00a6d009",
   "metadata": {},
   "outputs": [],
   "source": [
    "car1 = Car(\"Ford\", \"Mach1\", \"yellow\")"
   ]
  },
  {
   "cell_type": "code",
   "execution_count": 4,
   "id": "b41b86c2",
   "metadata": {},
   "outputs": [],
   "source": [
    "car2 = Car(\"Toyota\", \"Highlander\", \"white\")"
   ]
  },
  {
   "cell_type": "code",
   "execution_count": 5,
   "id": "72805cb5",
   "metadata": {},
   "outputs": [
    {
     "data": {
      "text/plain": [
       "'Ford'"
      ]
     },
     "execution_count": 5,
     "metadata": {},
     "output_type": "execute_result"
    }
   ],
   "source": [
    "car1.make"
   ]
  },
  {
   "cell_type": "code",
   "execution_count": 11,
   "id": "1a7a68ef",
   "metadata": {},
   "outputs": [
    {
     "data": {
      "text/plain": [
       "'Hello, my name Mike'"
      ]
     },
     "execution_count": 11,
     "metadata": {},
     "output_type": "execute_result"
    }
   ],
   "source": [
    "class Person:\n",
    "    def __init__(self, name, age):\n",
    "        self.name = name\n",
    "        self.age = age\n",
    "    def sayhi(self):\n",
    "        return f\"Hello, my name {self.name}\"\n",
    "\n",
    "mike = Person(\"Mike\", 32)\n",
    "\n",
    "mike.sayhi()"
   ]
  },
  {
   "cell_type": "code",
   "execution_count": null,
   "id": "026034fa",
   "metadata": {},
   "outputs": [],
   "source": []
  }
 ],
 "metadata": {
  "kernelspec": {
   "display_name": "Python 3 (ipykernel)",
   "language": "python",
   "name": "python3"
  },
  "language_info": {
   "codemirror_mode": {
    "name": "ipython",
    "version": 3
   },
   "file_extension": ".py",
   "mimetype": "text/x-python",
   "name": "python",
   "nbconvert_exporter": "python",
   "pygments_lexer": "ipython3",
   "version": "3.10.9"
  }
 },
 "nbformat": 4,
 "nbformat_minor": 5
}
