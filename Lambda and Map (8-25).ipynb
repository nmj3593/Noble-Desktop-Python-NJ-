{
 "cells": [
  {
   "cell_type": "code",
   "execution_count": 1,
   "id": "8762fa5c",
   "metadata": {},
   "outputs": [],
   "source": [
    "#Lambda"
   ]
  },
  {
   "cell_type": "code",
   "execution_count": 2,
   "id": "9a2f17f7",
   "metadata": {},
   "outputs": [],
   "source": [
    "def add(a,b):\n",
    "    return a + b"
   ]
  },
  {
   "cell_type": "code",
   "execution_count": 3,
   "id": "d723d365",
   "metadata": {},
   "outputs": [
    {
     "data": {
      "text/plain": [
       "11"
      ]
     },
     "execution_count": 3,
     "metadata": {},
     "output_type": "execute_result"
    }
   ],
   "source": [
    "add(5,6)"
   ]
  },
  {
   "cell_type": "code",
   "execution_count": 4,
   "id": "14594452",
   "metadata": {},
   "outputs": [],
   "source": [
    "f = lambda a,b : a + b"
   ]
  },
  {
   "cell_type": "code",
   "execution_count": 5,
   "id": "53c61c39",
   "metadata": {},
   "outputs": [
    {
     "data": {
      "text/plain": [
       "11"
      ]
     },
     "execution_count": 5,
     "metadata": {},
     "output_type": "execute_result"
    }
   ],
   "source": [
    "f(5,6)"
   ]
  },
  {
   "cell_type": "code",
   "execution_count": 6,
   "id": "7ee3989e",
   "metadata": {},
   "outputs": [],
   "source": [
    "week = [\"mon\", \"tue\", \"wed\"]\n",
    "#use map and lambda to capitalize the strings in the week list\n",
    "\n",
    "f = lambda a : a.capitalize()\n",
    "\n",
    "list(map(f,week))"
   ]
  },
  {
   "cell_type": "code",
   "execution_count": 13,
   "id": "bc2e4af2",
   "metadata": {},
   "outputs": [],
   "source": [
    "numbers = [1,2,3,4,5]\n",
    "#use map and lambda to divide each number by 2"
   ]
  },
  {
   "cell_type": "code",
   "execution_count": 20,
   "id": "4913ec1a",
   "metadata": {},
   "outputs": [
    {
     "data": {
      "text/plain": [
       "[0.5, 1.0, 1.5, 2.0, 2.5]"
      ]
     },
     "execution_count": 20,
     "metadata": {},
     "output_type": "execute_result"
    }
   ],
   "source": [
    "f = lambda a : a/2\n",
    "list (map(f,numbers))"
   ]
  },
  {
   "cell_type": "code",
   "execution_count": 17,
   "id": "ba8b7d8b",
   "metadata": {},
   "outputs": [
    {
     "data": {
      "text/plain": [
       "2.5"
      ]
     },
     "execution_count": 17,
     "metadata": {},
     "output_type": "execute_result"
    }
   ],
   "source": [
    "5/2"
   ]
  },
  {
   "cell_type": "code",
   "execution_count": 28,
   "id": "901ab7c0",
   "metadata": {},
   "outputs": [
    {
     "data": {
      "text/plain": [
       "[1, 2, 3]"
      ]
     },
     "execution_count": 28,
     "metadata": {},
     "output_type": "execute_result"
    }
   ],
   "source": [
    "alist = [(\"a\",1), (\"b\",2), (\"c\",3)]\n",
    "\n",
    "#use map and lambda to get just numbers\n",
    "\n",
    "f = lambda a :a[1]\n",
    "\n",
    "list(map(f,alist))"
   ]
  },
  {
   "cell_type": "code",
   "execution_count": null,
   "id": "e3442a61",
   "metadata": {},
   "outputs": [],
   "source": []
  }
 ],
 "metadata": {
  "kernelspec": {
   "display_name": "Python 3 (ipykernel)",
   "language": "python",
   "name": "python3"
  },
  "language_info": {
   "codemirror_mode": {
    "name": "ipython",
    "version": 3
   },
   "file_extension": ".py",
   "mimetype": "text/x-python",
   "name": "python",
   "nbconvert_exporter": "python",
   "pygments_lexer": "ipython3",
   "version": "3.10.9"
  }
 },
 "nbformat": 4,
 "nbformat_minor": 5
}
