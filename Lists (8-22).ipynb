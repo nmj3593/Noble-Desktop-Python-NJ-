{
 "cells": [
  {
   "cell_type": "code",
   "execution_count": null,
   "id": "7b0709f3",
   "metadata": {},
   "outputs": [],
   "source": [
    "# List"
   ]
  },
  {
   "cell_type": "code",
   "execution_count": null,
   "id": "318e12a6",
   "metadata": {},
   "outputs": [],
   "source": [
    "box = []"
   ]
  },
  {
   "cell_type": "code",
   "execution_count": null,
   "id": "6360be2e",
   "metadata": {},
   "outputs": [],
   "source": [
    "box.append(50)\n",
    "box.append(10)\n",
    "box.append(30)"
   ]
  },
  {
   "cell_type": "code",
   "execution_count": null,
   "id": "a64c1fed",
   "metadata": {},
   "outputs": [],
   "source": [
    "box"
   ]
  },
  {
   "cell_type": "code",
   "execution_count": null,
   "id": "602f172b",
   "metadata": {},
   "outputs": [],
   "source": [
    "box.append (\"apple\")"
   ]
  },
  {
   "cell_type": "code",
   "execution_count": null,
   "id": "c8800abe",
   "metadata": {},
   "outputs": [],
   "source": [
    "box"
   ]
  },
  {
   "cell_type": "code",
   "execution_count": null,
   "id": "144be358",
   "metadata": {},
   "outputs": [],
   "source": [
    "box[1]"
   ]
  },
  {
   "cell_type": "code",
   "execution_count": null,
   "id": "9b2ae686",
   "metadata": {},
   "outputs": [],
   "source": [
    "shopping_list = [\"bread\", \"milk\", \"apples\"]\n",
    "#Ask user what else to add to the shopping_list\n",
    "#Add that item to the shopping_list\n",
    "\n",
    "item = input(\"what else would you like to add?\")\n",
    "\n",
    "item\n",
    "\n",
    "shopping_list.append(item)\n",
    "shopping_list\n",
    "\n"
   ]
  },
  {
   "cell_type": "code",
   "execution_count": null,
   "id": "3bf64cc8",
   "metadata": {},
   "outputs": [],
   "source": [
    "#get just fruit from the list and save that sublist under the name fruit_list"
   ]
  },
  {
   "cell_type": "code",
   "execution_count": null,
   "id": "01b00715",
   "metadata": {},
   "outputs": [],
   "source": [
    "shopping_list[2::]"
   ]
  },
  {
   "cell_type": "code",
   "execution_count": null,
   "id": "2f0e2107",
   "metadata": {},
   "outputs": [],
   "source": [
    "#how many items do I have in the shopping list"
   ]
  },
  {
   "cell_type": "code",
   "execution_count": null,
   "id": "8196e303",
   "metadata": {},
   "outputs": [],
   "source": [
    "len(shopping_list)"
   ]
  },
  {
   "cell_type": "code",
   "execution_count": null,
   "id": "29f45c08",
   "metadata": {},
   "outputs": [],
   "source": [
    "items = len(shopping_list)"
   ]
  },
  {
   "cell_type": "code",
   "execution_count": null,
   "id": "f9dded07",
   "metadata": {},
   "outputs": [],
   "source": [
    "\"the shopping list contains {} items\".format(items)"
   ]
  },
  {
   "cell_type": "code",
   "execution_count": null,
   "id": "e6d5c9f5",
   "metadata": {},
   "outputs": [],
   "source": [
    "#replace milk with \"juice\""
   ]
  },
  {
   "cell_type": "code",
   "execution_count": null,
   "id": "314c09c9",
   "metadata": {},
   "outputs": [],
   "source": [
    "shopping_list[1] = \"juice\"\n",
    "shopping_list = []"
   ]
  },
  {
   "cell_type": "code",
   "execution_count": null,
   "id": "4b907298",
   "metadata": {},
   "outputs": [],
   "source": [
    "#ask user if they have an alergy to an item and remove it from the list"
   ]
  },
  {
   "cell_type": "code",
   "execution_count": null,
   "id": "e2d54314",
   "metadata": {},
   "outputs": [],
   "source": [
    "item = input(\"which item are you allergic to?\")\n",
    "shopping_list.remove(item)"
   ]
  },
  {
   "cell_type": "code",
   "execution_count": null,
   "id": "c78eedf1",
   "metadata": {},
   "outputs": [],
   "source": [
    "shopping_list"
   ]
  },
  {
   "cell_type": "code",
   "execution_count": 1,
   "id": "fc07d498",
   "metadata": {},
   "outputs": [],
   "source": [
    "numbers = [1,2,3,4,5,5,5,5,5]"
   ]
  },
  {
   "cell_type": "code",
   "execution_count": 2,
   "id": "24d5d417",
   "metadata": {},
   "outputs": [],
   "source": [
    "#How many 5s do i have in the numbers list"
   ]
  },
  {
   "cell_type": "code",
   "execution_count": 3,
   "id": "0e93fbb4",
   "metadata": {},
   "outputs": [
    {
     "data": {
      "text/plain": [
       "5"
      ]
     },
     "execution_count": 3,
     "metadata": {},
     "output_type": "execute_result"
    }
   ],
   "source": [
    "numbers.count(5)"
   ]
  },
  {
   "cell_type": "code",
   "execution_count": 4,
   "id": "cea0cca1",
   "metadata": {},
   "outputs": [],
   "source": [
    "#squeeze 0 between 1 and 2 in the list \"numbers\""
   ]
  },
  {
   "cell_type": "code",
   "execution_count": 12,
   "id": "72d7063c",
   "metadata": {},
   "outputs": [
    {
     "name": "stdout",
     "output_type": "stream",
     "text": [
      "Help on built-in function insert:\n",
      "\n",
      "insert(index, object, /) method of builtins.list instance\n",
      "    Insert object before index.\n",
      "\n"
     ]
    }
   ],
   "source": [
    "help (numbers.insert)"
   ]
  },
  {
   "cell_type": "code",
   "execution_count": 13,
   "id": "08a1fdda",
   "metadata": {},
   "outputs": [],
   "source": [
    "numbers.insert (1,0)"
   ]
  },
  {
   "cell_type": "code",
   "execution_count": 14,
   "id": "3dccd2ac",
   "metadata": {},
   "outputs": [
    {
     "data": {
      "text/plain": [
       "[1, 0, 0, 3, 4, 5, 5, 5, 5, 5]"
      ]
     },
     "execution_count": 14,
     "metadata": {},
     "output_type": "execute_result"
    }
   ],
   "source": [
    "numbers"
   ]
  },
  {
   "cell_type": "code",
   "execution_count": 15,
   "id": "14b5cd0c",
   "metadata": {},
   "outputs": [
    {
     "ename": "SyntaxError",
     "evalue": "invalid syntax (1462422012.py, line 1)",
     "output_type": "error",
     "traceback": [
      "\u001b[1;36m  Cell \u001b[1;32mIn[15], line 1\u001b[1;36m\u001b[0m\n\u001b[1;33m    help numbers.insert\u001b[0m\n\u001b[1;37m         ^\u001b[0m\n\u001b[1;31mSyntaxError\u001b[0m\u001b[1;31m:\u001b[0m invalid syntax\n"
     ]
    }
   ],
   "source": [
    "help numbers.insert"
   ]
  },
  {
   "cell_type": "code",
   "execution_count": null,
   "id": "ba72b45b",
   "metadata": {},
   "outputs": [],
   "source": []
  }
 ],
 "metadata": {
  "kernelspec": {
   "display_name": "Python 3 (ipykernel)",
   "language": "python",
   "name": "python3"
  },
  "language_info": {
   "codemirror_mode": {
    "name": "ipython",
    "version": 3
   },
   "file_extension": ".py",
   "mimetype": "text/x-python",
   "name": "python",
   "nbconvert_exporter": "python",
   "pygments_lexer": "ipython3",
   "version": "3.10.9"
  }
 },
 "nbformat": 4,
 "nbformat_minor": 5
}
