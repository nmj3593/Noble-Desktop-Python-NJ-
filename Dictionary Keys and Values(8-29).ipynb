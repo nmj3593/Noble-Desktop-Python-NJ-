{
 "cells": [
  {
   "cell_type": "code",
   "execution_count": 1,
   "id": "8750cb44",
   "metadata": {},
   "outputs": [],
   "source": [
    "d={\"apple\":1.99, \"banana\":2.19, \"blueberry\": 1.29, \"kiwi\": 2.23}"
   ]
  },
  {
   "cell_type": "code",
   "execution_count": 2,
   "id": "a347c02c",
   "metadata": {},
   "outputs": [
    {
     "name": "stdout",
     "output_type": "stream",
     "text": [
      "{'apple': 1.99, 'banana': 2.19, 'blueberry': 1.29, 'kiwi': 2.23}\n"
     ]
    }
   ],
   "source": [
    "print(d)"
   ]
  },
  {
   "cell_type": "code",
   "execution_count": 3,
   "id": "b4917d9b",
   "metadata": {},
   "outputs": [
    {
     "data": {
      "text/plain": [
       "2.23"
      ]
     },
     "execution_count": 3,
     "metadata": {},
     "output_type": "execute_result"
    }
   ],
   "source": [
    "d.get(\"kiwi\")"
   ]
  },
  {
   "cell_type": "code",
   "execution_count": null,
   "id": "dd441c2f",
   "metadata": {},
   "outputs": [],
   "source": [
    "total_apple = input (\"How many apples do you want?\")\n",
    "\n",
    "total_banana = input (\"How many bananas do you want\")\n",
    "\n",
    "int(total_banana) \n",
    "\n",
    "banana = int(total_banana)\n",
    "apple = int(total_apple)\n",
    "\n",
    "bananaprice = banana * d.get(\"banana\")\n",
    "appleprice = apple * d.get(\"apple\")\n",
    "\n",
    "final_total= bananaprice + appleprice\n",
    "final_total"
   ]
  },
  {
   "cell_type": "code",
   "execution_count": null,
   "id": "961e7058",
   "metadata": {},
   "outputs": [],
   "source": [
    "#1. Ask what item needs to be added to the dictionary\n",
    "#2. Ask what the price should be\n",
    "#3. Add item as a key and price as a value"
   ]
  },
  {
   "cell_type": "code",
   "execution_count": 24,
   "id": "82350da1",
   "metadata": {},
   "outputs": [],
   "source": [
    "def update(d):\n",
    "    Newitem = input(\"What item do we need to add?\")\n",
    "    Newprice = input(\"What should the price be?\")\n",
    "    Newprice_float =float(Newprice)\n",
    "\n",
    "    d[Newitem]=Newprice_float\n",
    "    return d\n",
    "\n"
   ]
  },
  {
   "cell_type": "code",
   "execution_count": null,
   "id": "48e84af4",
   "metadata": {},
   "outputs": [],
   "source": [
    "update(d)"
   ]
  },
  {
   "cell_type": "code",
   "execution_count": 17,
   "id": "a904818f",
   "metadata": {},
   "outputs": [
    {
     "data": {
      "text/plain": [
       "{'apple': 1.99,\n",
       " 'banana': 2.19,\n",
       " 'blueberry': 1.29,\n",
       " 'kiwi': 2.23,\n",
       " 'plum': 2.39,\n",
       " 'tomato': 1.09}"
      ]
     },
     "execution_count": 17,
     "metadata": {},
     "output_type": "execute_result"
    }
   ],
   "source": [
    "d"
   ]
  },
  {
   "cell_type": "code",
   "execution_count": 19,
   "id": "7fe0dd92",
   "metadata": {},
   "outputs": [
    {
     "data": {
      "text/plain": [
       "dict_keys(['apple', 'banana', 'blueberry', 'kiwi', 'plum', 'tomato'])"
      ]
     },
     "execution_count": 19,
     "metadata": {},
     "output_type": "execute_result"
    }
   ],
   "source": [
    "d.keys()"
   ]
  },
  {
   "cell_type": "code",
   "execution_count": 20,
   "id": "38c3aa47",
   "metadata": {},
   "outputs": [
    {
     "data": {
      "text/plain": [
       "dict_items([('apple', 1.99), ('banana', 2.19), ('blueberry', 1.29), ('kiwi', 2.23), ('plum', 2.39), ('tomato', 1.09)])"
      ]
     },
     "execution_count": 20,
     "metadata": {},
     "output_type": "execute_result"
    }
   ],
   "source": [
    "d.items()"
   ]
  },
  {
   "cell_type": "code",
   "execution_count": 22,
   "id": "164643f6",
   "metadata": {},
   "outputs": [
    {
     "data": {
      "text/plain": [
       "dict_values([1.99, 2.19, 1.29, 2.23, 2.39, 1.09])"
      ]
     },
     "execution_count": 22,
     "metadata": {},
     "output_type": "execute_result"
    }
   ],
   "source": [
    "d.values()"
   ]
  },
  {
   "cell_type": "code",
   "execution_count": null,
   "id": "68b6680d",
   "metadata": {},
   "outputs": [],
   "source": []
  }
 ],
 "metadata": {
  "kernelspec": {
   "display_name": "Python 3 (ipykernel)",
   "language": "python",
   "name": "python3"
  },
  "language_info": {
   "codemirror_mode": {
    "name": "ipython",
    "version": 3
   },
   "file_extension": ".py",
   "mimetype": "text/x-python",
   "name": "python",
   "nbconvert_exporter": "python",
   "pygments_lexer": "ipython3",
   "version": "3.10.9"
  }
 },
 "nbformat": 4,
 "nbformat_minor": 5
}
