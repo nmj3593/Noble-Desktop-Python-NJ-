{
 "cells": [
  {
   "cell_type": "code",
   "execution_count": 1,
   "id": "fc78e355",
   "metadata": {},
   "outputs": [],
   "source": [
    "# check is $50\n",
    "# tax rate is 8%\n",
    "# tip rate is 20%\n",
    "# Get the total "
   ]
  },
  {
   "cell_type": "code",
   "execution_count": 2,
   "id": "1d1bceee",
   "metadata": {},
   "outputs": [],
   "source": [
    "#1. Define variables\n",
    "#2. Get $ ammount for tax \n",
    "#3. Get $ ammount for tip\n",
    "#4. Add ammount for taax and tip to check "
   ]
  },
  {
   "cell_type": "code",
   "execution_count": 14,
   "id": "382cd716",
   "metadata": {},
   "outputs": [
    {
     "name": "stdout",
     "output_type": "stream",
     "text": [
      "How much is your meal?100\n",
      "128.0 Dollars\n"
     ]
    }
   ],
   "source": [
    "check = input (\"How much is your meal?\")\n",
    "tax_rate = .08\n",
    "tip_rate = .20\n",
    "check_float = float(check)\n",
    "tax = check_float * tax_rate\n",
    "tip = check_float * tip_rate\n",
    "total = check_float + tax + tip\n",
    "print (total,\"Dollars\")"
   ]
  },
  {
   "cell_type": "code",
   "execution_count": null,
   "id": "a47e2bef",
   "metadata": {},
   "outputs": [],
   "source": []
  }
 ],
 "metadata": {
  "kernelspec": {
   "display_name": "Python 3 (ipykernel)",
   "language": "python",
   "name": "python3"
  },
  "language_info": {
   "codemirror_mode": {
    "name": "ipython",
    "version": 3
   },
   "file_extension": ".py",
   "mimetype": "text/x-python",
   "name": "python",
   "nbconvert_exporter": "python",
   "pygments_lexer": "ipython3",
   "version": "3.10.9"
  }
 },
 "nbformat": 4,
 "nbformat_minor": 5
}
