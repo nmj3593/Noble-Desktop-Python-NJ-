{
 "cells": [
  {
   "cell_type": "code",
   "execution_count": 2,
   "id": "d7165dc8",
   "metadata": {},
   "outputs": [
    {
     "data": {
      "text/plain": [
       "5"
      ]
     },
     "execution_count": 2,
     "metadata": {},
     "output_type": "execute_result"
    }
   ],
   "source": [
    "word = \"apple\"\n",
    "len(word)"
   ]
  },
  {
   "cell_type": "code",
   "execution_count": 5,
   "id": "a2e19f37",
   "metadata": {},
   "outputs": [
    {
     "name": "stdout",
     "output_type": "stream",
     "text": [
      "0 a\n",
      "1 p\n",
      "2 p\n",
      "3 l\n",
      "4 e\n"
     ]
    }
   ],
   "source": [
    "for index in range (len(word)):\n",
    "    print (index, word[index])"
   ]
  },
  {
   "cell_type": "code",
   "execution_count": 17,
   "id": "67b6689d",
   "metadata": {},
   "outputs": [],
   "source": [
    "word =\"racecar\""
   ]
  },
  {
   "cell_type": "code",
   "execution_count": 18,
   "id": "e54ea401",
   "metadata": {},
   "outputs": [],
   "source": [
    "#find the index of letter \"e\" in racecar"
   ]
  },
  {
   "cell_type": "code",
   "execution_count": 23,
   "id": "3b639e23",
   "metadata": {},
   "outputs": [
    {
     "name": "stdout",
     "output_type": "stream",
     "text": [
      "3 e\n"
     ]
    }
   ],
   "source": [
    "for index in range (len(word)):\n",
    "    if word[index] == \"e\":\n",
    "        print (index, word[index])"
   ]
  },
  {
   "cell_type": "code",
   "execution_count": null,
   "id": "2c4ce672",
   "metadata": {},
   "outputs": [],
   "source": []
  },
  {
   "cell_type": "code",
   "execution_count": null,
   "id": "c9aa4dbd",
   "metadata": {},
   "outputs": [],
   "source": []
  }
 ],
 "metadata": {
  "kernelspec": {
   "display_name": "Python 3 (ipykernel)",
   "language": "python",
   "name": "python3"
  },
  "language_info": {
   "codemirror_mode": {
    "name": "ipython",
    "version": 3
   },
   "file_extension": ".py",
   "mimetype": "text/x-python",
   "name": "python",
   "nbconvert_exporter": "python",
   "pygments_lexer": "ipython3",
   "version": "3.10.9"
  }
 },
 "nbformat": 4,
 "nbformat_minor": 5
}
