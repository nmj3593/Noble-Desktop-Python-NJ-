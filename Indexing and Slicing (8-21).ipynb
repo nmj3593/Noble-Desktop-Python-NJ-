{
 "cells": [
  {
   "cell_type": "code",
   "execution_count": 8,
   "id": "1778cae0",
   "metadata": {},
   "outputs": [
    {
     "data": {
      "text/plain": [
       "''"
      ]
     },
     "execution_count": 8,
     "metadata": {},
     "output_type": "execute_result"
    }
   ],
   "source": [
    "string = \"aAbBcCdDeE\"\n",
    "word = \"aAbBcCdDeE\"\n",
    "word [0:10:2]\n",
    "word [1::2]\n",
    "\n",
    "word [-1:-1:2]"
   ]
  },
  {
   "cell_type": "code",
   "execution_count": 13,
   "id": "ec568cf0",
   "metadata": {},
   "outputs": [
    {
     "data": {
      "text/plain": [
       "'EDCBA'"
      ]
     },
     "execution_count": 13,
     "metadata": {},
     "output_type": "execute_result"
    }
   ],
   "source": [
    "string = \"aAbBcCdDeE\"\n",
    "word = \"aAbBcCdDeE\"\n",
    "word [-2::-2]\n",
    "word [-1::-2]"
   ]
  },
  {
   "cell_type": "code",
   "execution_count": 22,
   "id": "09c53cd7",
   "metadata": {},
   "outputs": [
    {
     "data": {
      "text/plain": [
       "'54321'"
      ]
     },
     "execution_count": 22,
     "metadata": {},
     "output_type": "execute_result"
    }
   ],
   "source": [
    "address = \"115 W 30th St., New York, NY, 12345\"\n",
    "word = \"115 W 30th St., New York, NY, 12345\"\n",
    "word [-5:]\n",
    "word [-7:]\n",
    "word [-1:-6:-1]"
   ]
  },
  {
   "cell_type": "code",
   "execution_count": null,
   "id": "82129129",
   "metadata": {},
   "outputs": [],
   "source": []
  }
 ],
 "metadata": {
  "kernelspec": {
   "display_name": "Python 3 (ipykernel)",
   "language": "python",
   "name": "python3"
  },
  "language_info": {
   "codemirror_mode": {
    "name": "ipython",
    "version": 3
   },
   "file_extension": ".py",
   "mimetype": "text/x-python",
   "name": "python",
   "nbconvert_exporter": "python",
   "pygments_lexer": "ipython3",
   "version": "3.10.9"
  }
 },
 "nbformat": 4,
 "nbformat_minor": 5
}
