{
 "cells": [
  {
   "cell_type": "code",
   "execution_count": 32,
   "id": "2c6caeda",
   "metadata": {},
   "outputs": [],
   "source": [
    "word = \"says?\""
   ]
  },
  {
   "cell_type": "code",
   "execution_count": 33,
   "id": "cfdd80bf",
   "metadata": {},
   "outputs": [
    {
     "data": {
      "text/plain": [
       "'says'"
      ]
     },
     "execution_count": 33,
     "metadata": {},
     "output_type": "execute_result"
    }
   ],
   "source": [
    "for i in word:\n",
    "    if i.isalpha():\n",
    "        pass\n",
    "    else:\n",
    "        word = word.replace(i, \"\")\n",
    "        \n",
    "\n",
    "word"
   ]
  },
  {
   "cell_type": "code",
   "execution_count": 34,
   "id": "158de829",
   "metadata": {},
   "outputs": [],
   "source": [
    "def remove (word):\n",
    "    for i in word:\n",
    "        if not i.isalpha():\n",
    "            word = word.strip(i)\n",
    "    return word"
   ]
  },
  {
   "cell_type": "code",
   "execution_count": null,
   "id": "a8229ae7",
   "metadata": {},
   "outputs": [],
   "source": []
  },
  {
   "cell_type": "code",
   "execution_count": 35,
   "id": "8dd10695",
   "metadata": {},
   "outputs": [
    {
     "data": {
      "text/plain": [
       "'says'"
      ]
     },
     "execution_count": 35,
     "metadata": {},
     "output_type": "execute_result"
    }
   ],
   "source": [
    "word"
   ]
  },
  {
   "cell_type": "code",
   "execution_count": null,
   "id": "8a7b5447",
   "metadata": {},
   "outputs": [],
   "source": []
  }
 ],
 "metadata": {
  "kernelspec": {
   "display_name": "Python 3 (ipykernel)",
   "language": "python",
   "name": "python3"
  },
  "language_info": {
   "codemirror_mode": {
    "name": "ipython",
    "version": 3
   },
   "file_extension": ".py",
   "mimetype": "text/x-python",
   "name": "python",
   "nbconvert_exporter": "python",
   "pygments_lexer": "ipython3",
   "version": "3.10.9"
  }
 },
 "nbformat": 4,
 "nbformat_minor": 5
}
