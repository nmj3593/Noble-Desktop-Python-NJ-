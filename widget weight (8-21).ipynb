{
 "cells": [
  {
   "cell_type": "code",
   "execution_count": 4,
   "id": "169201f2",
   "metadata": {},
   "outputs": [],
   "source": [
    "widget_weight = 75\n",
    "gizmo_weight = 112"
   ]
  },
  {
   "cell_type": "code",
   "execution_count": 1,
   "id": "3eaf3831",
   "metadata": {},
   "outputs": [
    {
     "name": "stdout",
     "output_type": "stream",
     "text": [
      "How many widgets would you like?2\n"
     ]
    }
   ],
   "source": [
    "widget_total = input (\"How many widgets would you like?\")"
   ]
  },
  {
   "cell_type": "code",
   "execution_count": 2,
   "id": "6510c4a3",
   "metadata": {},
   "outputs": [
    {
     "name": "stdout",
     "output_type": "stream",
     "text": [
      "How many gizmos would you like?2\n"
     ]
    }
   ],
   "source": [
    "gizmo_total = input (\"How many gizmos would you like?\")"
   ]
  },
  {
   "cell_type": "code",
   "execution_count": 5,
   "id": "8fa92fef",
   "metadata": {},
   "outputs": [
    {
     "name": "stdout",
     "output_type": "stream",
     "text": [
      "374\n"
     ]
    }
   ],
   "source": [
    "new_widget_total = int (widget_total)\n",
    "new_gizmo_total = int (gizmo_total)\n",
    "total_weight = (new_widget_total * widget_weight) + (new_gizmo_total * gizmo_weight)\n",
    "print (total_weight)"
   ]
  },
  {
   "cell_type": "code",
   "execution_count": null,
   "id": "1280e976",
   "metadata": {},
   "outputs": [],
   "source": []
  }
 ],
 "metadata": {
  "kernelspec": {
   "display_name": "Python 3 (ipykernel)",
   "language": "python",
   "name": "python3"
  },
  "language_info": {
   "codemirror_mode": {
    "name": "ipython",
    "version": 3
   },
   "file_extension": ".py",
   "mimetype": "text/x-python",
   "name": "python",
   "nbconvert_exporter": "python",
   "pygments_lexer": "ipython3",
   "version": "3.10.9"
  }
 },
 "nbformat": 4,
 "nbformat_minor": 5
}
