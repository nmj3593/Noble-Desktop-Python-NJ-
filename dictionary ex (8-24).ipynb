{
 "cells": [
  {
   "cell_type": "code",
   "execution_count": 12,
   "id": "dd62885b",
   "metadata": {},
   "outputs": [],
   "source": [
    "word = \"heywhatsuphello\"\n",
    "d = {}\n",
    "\n",
    "for i in word:\n",
    "    if i in d:\n",
    "        d[i] = d[i] + 1\n",
    "    else:\n",
    "        d[i] = 1\n",
    "        "
   ]
  },
  {
   "cell_type": "code",
   "execution_count": 13,
   "id": "45d5f88c",
   "metadata": {},
   "outputs": [
    {
     "data": {
      "text/plain": [
       "{'h': 3,\n",
       " 'e': 2,\n",
       " 'y': 1,\n",
       " 'w': 1,\n",
       " 'a': 1,\n",
       " 't': 1,\n",
       " 's': 1,\n",
       " 'u': 1,\n",
       " 'p': 1,\n",
       " 'l': 2,\n",
       " 'o': 1}"
      ]
     },
     "execution_count": 13,
     "metadata": {},
     "output_type": "execute_result"
    }
   ],
   "source": [
    "d"
   ]
  },
  {
   "cell_type": "code",
   "execution_count": 18,
   "id": "a4568079",
   "metadata": {},
   "outputs": [],
   "source": [
    "def scramble(word):\n",
    "    d={}\n",
    "    for i in word:\n",
    "        if i in d:\n",
    "            d[i] = d[i]+1\n",
    "        else:\n",
    "            d[i] = 1\n",
    "    return d"
   ]
  },
  {
   "cell_type": "code",
   "execution_count": 23,
   "id": "c84806e3",
   "metadata": {},
   "outputs": [
    {
     "name": "stdout",
     "output_type": "stream",
     "text": [
      "give me a wordhello\n",
      "give me another wordfff\n",
      "these words are not anograms\n"
     ]
    }
   ],
   "source": [
    "def anagrams():\n",
    "    word1 = input(\"give me a word\")\n",
    "    word2 = input(\"give me another word\")\n",
    "    if scramble (word1)==scramble(word2):\n",
    "        print(\"these words are anograms\")\n",
    "    else:\n",
    "        print(\"these words are not anograms\")\n",
    "        "
   ]
  },
  {
   "cell_type": "code",
   "execution_count": null,
   "id": "b6bd4793",
   "metadata": {},
   "outputs": [],
   "source": []
  }
 ],
 "metadata": {
  "kernelspec": {
   "display_name": "Python 3 (ipykernel)",
   "language": "python",
   "name": "python3"
  },
  "language_info": {
   "codemirror_mode": {
    "name": "ipython",
    "version": 3
   },
   "file_extension": ".py",
   "mimetype": "text/x-python",
   "name": "python",
   "nbconvert_exporter": "python",
   "pygments_lexer": "ipython3",
   "version": "3.10.9"
  }
 },
 "nbformat": 4,
 "nbformat_minor": 5
}
