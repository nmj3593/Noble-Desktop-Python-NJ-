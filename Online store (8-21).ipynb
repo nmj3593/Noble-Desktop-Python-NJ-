{
 "cells": [
  {
   "cell_type": "code",
   "execution_count": 1,
   "id": "e33c7e40",
   "metadata": {},
   "outputs": [
    {
     "data": {
      "text/plain": [
       "22"
      ]
     },
     "execution_count": 1,
     "metadata": {},
     "output_type": "execute_result"
    }
   ],
   "source": [
    "#cheeseburger - 7.00\n",
    "#fries - 4.00\n",
    "\n",
    "# 1. Ask user how many cheeseburgers \n",
    "# 2. Ask user how many fries \n",
    "# 3. Get the total user should pay \n",
    "(2 * 7) + (2 * 4)"
   ]
  },
  {
   "cell_type": "code",
   "execution_count": 2,
   "id": "aaea54eb",
   "metadata": {},
   "outputs": [],
   "source": [
    "cheeseburger = 7"
   ]
  },
  {
   "cell_type": "code",
   "execution_count": 3,
   "id": "f5c23b33",
   "metadata": {},
   "outputs": [],
   "source": [
    "fries = 4"
   ]
  },
  {
   "cell_type": "code",
   "execution_count": 4,
   "id": "a6ced7f3",
   "metadata": {},
   "outputs": [
    {
     "name": "stdout",
     "output_type": "stream",
     "text": [
      "How many cheeseburgers would you like?2\n"
     ]
    },
    {
     "data": {
      "text/plain": [
       "'2'"
      ]
     },
     "execution_count": 4,
     "metadata": {},
     "output_type": "execute_result"
    }
   ],
   "source": [
    "input (\"How many cheeseburgers would you like?\")"
   ]
  },
  {
   "cell_type": "code",
   "execution_count": 5,
   "id": "d16d0a19",
   "metadata": {},
   "outputs": [
    {
     "name": "stdout",
     "output_type": "stream",
     "text": [
      "How many fries would you like?2\n"
     ]
    },
    {
     "data": {
      "text/plain": [
       "'2'"
      ]
     },
     "execution_count": 5,
     "metadata": {},
     "output_type": "execute_result"
    }
   ],
   "source": [
    "input (\"How many fries would you like?\")"
   ]
  },
  {
   "cell_type": "code",
   "execution_count": 6,
   "id": "382ed6c0",
   "metadata": {},
   "outputs": [
    {
     "name": "stdout",
     "output_type": "stream",
     "text": [
      "How many cheeseburgers would you like?2\n"
     ]
    }
   ],
   "source": [
    "cheeseburger_amount = input (\"How many cheeseburgers would you like?\")"
   ]
  },
  {
   "cell_type": "code",
   "execution_count": 7,
   "id": "ac11b424",
   "metadata": {},
   "outputs": [
    {
     "name": "stdout",
     "output_type": "stream",
     "text": [
      "How many fries would you like?2\n"
     ]
    }
   ],
   "source": [
    "fries_amount = input (\"How many fries would you like?\")"
   ]
  },
  {
   "cell_type": "code",
   "execution_count": 8,
   "id": "ad4ca604",
   "metadata": {},
   "outputs": [],
   "source": [
    "cheeseburger_total = int (cheeseburger_amount)"
   ]
  },
  {
   "cell_type": "code",
   "execution_count": 9,
   "id": "8916eecf",
   "metadata": {},
   "outputs": [],
   "source": [
    "fries_total = int (fries_amount)"
   ]
  },
  {
   "cell_type": "code",
   "execution_count": 12,
   "id": "5137238c",
   "metadata": {},
   "outputs": [],
   "source": [
    "total = (cheeseburger * cheeseburger_total) + (fries * fries_total)"
   ]
  },
  {
   "cell_type": "code",
   "execution_count": 13,
   "id": "9fa4402c",
   "metadata": {},
   "outputs": [
    {
     "name": "stdout",
     "output_type": "stream",
     "text": [
      "22\n"
     ]
    }
   ],
   "source": [
    "print(total)"
   ]
  },
  {
   "cell_type": "code",
   "execution_count": null,
   "id": "a2894871",
   "metadata": {},
   "outputs": [],
   "source": []
  }
 ],
 "metadata": {
  "kernelspec": {
   "display_name": "Python 3 (ipykernel)",
   "language": "python",
   "name": "python3"
  },
  "language_info": {
   "codemirror_mode": {
    "name": "ipython",
    "version": 3
   },
   "file_extension": ".py",
   "mimetype": "text/x-python",
   "name": "python",
   "nbconvert_exporter": "python",
   "pygments_lexer": "ipython3",
   "version": "3.10.9"
  }
 },
 "nbformat": 4,
 "nbformat_minor": 5
}
