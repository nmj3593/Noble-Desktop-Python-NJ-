{
 "cells": [
  {
   "cell_type": "code",
   "execution_count": 6,
   "id": "8a5fcb87",
   "metadata": {},
   "outputs": [
    {
     "name": "stdout",
     "output_type": "stream",
     "text": [
      "Give me a wordRainy\n",
      "Don't forget your umbrella\n"
     ]
    }
   ],
   "source": [
    "word =input (\"Give me a word\")\n",
    "word = word.lower ()\n",
    "if word ==\"rainy\":\n",
    "    print (\"Don't forget your umbrella\")\n",
    "elif word == \"sunny\":\n",
    "    print (\"Don't forget your sunglasses\")\n",
    "elif word == \"blizzard\":\n",
    "    print (\"Stay at home\")\n",
    "else:\n",
    "    print (word, \"Have a good day\")"
   ]
  },
  {
   "cell_type": "code",
   "execution_count": 1,
   "id": "0f7ce24a",
   "metadata": {},
   "outputs": [
    {
     "name": "stdout",
     "output_type": "stream",
     "text": [
      "Give me a number2\n"
     ]
    }
   ],
   "source": [
    "number =input (\"Give me a number\")"
   ]
  },
  {
   "cell_type": "code",
   "execution_count": 3,
   "id": "5dd37127",
   "metadata": {},
   "outputs": [
    {
     "name": "stdout",
     "output_type": "stream",
     "text": [
      "Odd\n"
     ]
    }
   ],
   "source": [
    "if number==0:\n",
    "    print (\"Even\")\n",
    "else:\n",
    "    print (\"Odd\")"
   ]
  },
  {
   "cell_type": "code",
   "execution_count": null,
   "id": "476a04ec",
   "metadata": {},
   "outputs": [],
   "source": []
  }
 ],
 "metadata": {
  "kernelspec": {
   "display_name": "Python 3 (ipykernel)",
   "language": "python",
   "name": "python3"
  },
  "language_info": {
   "codemirror_mode": {
    "name": "ipython",
    "version": 3
   },
   "file_extension": ".py",
   "mimetype": "text/x-python",
   "name": "python",
   "nbconvert_exporter": "python",
   "pygments_lexer": "ipython3",
   "version": "3.10.9"
  }
 },
 "nbformat": 4,
 "nbformat_minor": 5
}
