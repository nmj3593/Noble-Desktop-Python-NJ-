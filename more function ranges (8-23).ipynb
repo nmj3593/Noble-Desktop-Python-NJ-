{
 "cells": [
  {
   "cell_type": "code",
   "execution_count": 4,
   "id": "348722f9",
   "metadata": {},
   "outputs": [
    {
     "name": "stdout",
     "output_type": "stream",
     "text": [
      "Enter a lettera\n",
      "vowel\n"
     ]
    }
   ],
   "source": [
    "letter = input (\"Enter a letter\")\n",
    "if letter in [\"a\",\"e\",\"i\",\"o\",\"u\"]:\n",
    "    print (\"vowel\")"
   ]
  },
  {
   "cell_type": "code",
   "execution_count": 7,
   "id": "cbd0ce1b",
   "metadata": {},
   "outputs": [],
   "source": [
    "def is_vowel (letter):\n",
    "    if letter in [\"a\", \"e\", \"i\", \"o\",\"u\"]:\n",
    "        return True\n",
    "    else:\n",
    "        return False "
   ]
  },
  {
   "cell_type": "code",
   "execution_count": 8,
   "id": "4a2ab20e",
   "metadata": {},
   "outputs": [
    {
     "data": {
      "text/plain": [
       "True"
      ]
     },
     "execution_count": 8,
     "metadata": {},
     "output_type": "execute_result"
    }
   ],
   "source": [
    "is_vowel (\"e\")"
   ]
  },
  {
   "cell_type": "code",
   "execution_count": 22,
   "id": "44f522ed",
   "metadata": {},
   "outputs": [],
   "source": [
    "word = \"banana\""
   ]
  },
  {
   "cell_type": "code",
   "execution_count": 23,
   "id": "fc96b215",
   "metadata": {},
   "outputs": [
    {
     "name": "stdout",
     "output_type": "stream",
     "text": [
      "True 1\n",
      "True 2\n",
      "True 3\n"
     ]
    }
   ],
   "source": [
    "counter = 0\n",
    "for letter in word:\n",
    "    if is_vowel(letter):\n",
    "        counter = counter + 1\n",
    "        print (is_vowel(letter), counter)"
   ]
  },
  {
   "cell_type": "code",
   "execution_count": 36,
   "id": "768ac045",
   "metadata": {},
   "outputs": [],
   "source": [
    "def is_vowel(letter):\n",
    "    if letter in [\"a\", \"e\", \"i\", \"o\", \"u\"]:\n",
    "        return True\n",
    "    else:\n",
    "        return False"
   ]
  },
  {
   "cell_type": "code",
   "execution_count": 46,
   "id": "02f9cbe6",
   "metadata": {},
   "outputs": [
    {
     "name": "stdout",
     "output_type": "stream",
     "text": [
      "4 o\n"
     ]
    }
   ],
   "source": [
    "word=\"banana\"\n",
    "for index in range (len(word)):\n",
    "    if is_vowel(word[index]):\n",
    "        print(index, word[index])"
   ]
  },
  {
   "cell_type": "code",
   "execution_count": 47,
   "id": "1da9dc1e",
   "metadata": {},
   "outputs": [],
   "source": [
    "fruit = [\"banana\", \"apple\", \"mango\", \"grapes\"]\n",
    "#using the function range() get the index of \"mango\""
   ]
  },
  {
   "cell_type": "code",
   "execution_count": 52,
   "id": "95699625",
   "metadata": {},
   "outputs": [
    {
     "name": "stdout",
     "output_type": "stream",
     "text": [
      "2 mango\n"
     ]
    }
   ],
   "source": [
    "for index in range (len(fruit)):\n",
    "    if fruit[index]==\"mango\":\n",
    "        print (index, fruit[index])"
   ]
  },
  {
   "cell_type": "code",
   "execution_count": null,
   "id": "e91c970f",
   "metadata": {},
   "outputs": [],
   "source": []
  }
 ],
 "metadata": {
  "kernelspec": {
   "display_name": "Python 3 (ipykernel)",
   "language": "python",
   "name": "python3"
  },
  "language_info": {
   "codemirror_mode": {
    "name": "ipython",
    "version": 3
   },
   "file_extension": ".py",
   "mimetype": "text/x-python",
   "name": "python",
   "nbconvert_exporter": "python",
   "pygments_lexer": "ipython3",
   "version": "3.10.9"
  }
 },
 "nbformat": 4,
 "nbformat_minor": 5
}
