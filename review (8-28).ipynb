{
 "cells": [
  {
   "cell_type": "code",
   "execution_count": 1,
   "id": "e270d30f",
   "metadata": {},
   "outputs": [],
   "source": [
    "numbers = [0,0,0,0,0,1,0,0,0,0,0]\n",
    "#replace 1 with 0 using for loop and range "
   ]
  },
  {
   "cell_type": "code",
   "execution_count": 10,
   "id": "bde32d1e",
   "metadata": {},
   "outputs": [
    {
     "data": {
      "text/plain": [
       "[0, 0, 0, 0, 0, 0, 0, 0, 0, 0, 0]"
      ]
     },
     "execution_count": 10,
     "metadata": {},
     "output_type": "execute_result"
    }
   ],
   "source": [
    "for i in range(len(numbers)):\n",
    "    if numbers[i] == 1:\n",
    "        numbers[i] = 0\n",
    "numbers"
   ]
  },
  {
   "cell_type": "code",
   "execution_count": 11,
   "id": "39850251",
   "metadata": {},
   "outputs": [],
   "source": [
    "word = \"apple\"\n"
   ]
  },
  {
   "cell_type": "code",
   "execution_count": 22,
   "id": "09619a90",
   "metadata": {},
   "outputs": [
    {
     "name": "stdout",
     "output_type": "stream",
     "text": [
      "3 l\n"
     ]
    },
    {
     "data": {
      "text/plain": [
       "'appMe'"
      ]
     },
     "execution_count": 22,
     "metadata": {},
     "output_type": "execute_result"
    }
   ],
   "source": [
    "for i in range(len(word)):\n",
    "    if word[i] == \"l\":\n",
    "        print (i,word[i])\n",
    "        part1 = word[0:i]\n",
    "        part2 = word[i + 1:]\n",
    "        newword = part1 + \"M\" + part2\n",
    "newword"
   ]
  },
  {
   "cell_type": "code",
   "execution_count": 34,
   "id": "4aafb2ed",
   "metadata": {},
   "outputs": [],
   "source": [
    "def add(*args):\n",
    "    print(args)\n",
    "    print (type(args))"
   ]
  },
  {
   "cell_type": "code",
   "execution_count": 35,
   "id": "123cfec9",
   "metadata": {},
   "outputs": [
    {
     "name": "stdout",
     "output_type": "stream",
     "text": [
      "(1, 2, 3, 4, 5)\n",
      "<class 'tuple'>\n"
     ]
    }
   ],
   "source": [
    "add (1,2,3,4,5)"
   ]
  },
  {
   "cell_type": "code",
   "execution_count": 36,
   "id": "b296de32",
   "metadata": {},
   "outputs": [],
   "source": [
    "def newfunc (**kwargs):\n",
    "    print (kwargs)"
   ]
  },
  {
   "cell_type": "code",
   "execution_count": 38,
   "id": "0e09a6f7",
   "metadata": {},
   "outputs": [
    {
     "name": "stdout",
     "output_type": "stream",
     "text": [
      "{'sport': 'baseball', 'team': 'Yankees'}\n"
     ]
    }
   ],
   "source": [
    "newfunc (sport =\"baseball\", team=\"Yankees\")"
   ]
  },
  {
   "cell_type": "code",
   "execution_count": null,
   "id": "c0535535",
   "metadata": {},
   "outputs": [],
   "source": []
  }
 ],
 "metadata": {
  "kernelspec": {
   "display_name": "Python 3 (ipykernel)",
   "language": "python",
   "name": "python3"
  },
  "language_info": {
   "codemirror_mode": {
    "name": "ipython",
    "version": 3
   },
   "file_extension": ".py",
   "mimetype": "text/x-python",
   "name": "python",
   "nbconvert_exporter": "python",
   "pygments_lexer": "ipython3",
   "version": "3.10.9"
  }
 },
 "nbformat": 4,
 "nbformat_minor": 5
}
