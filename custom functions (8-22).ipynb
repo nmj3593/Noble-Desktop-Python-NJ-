{
 "cells": [
  {
   "cell_type": "code",
   "execution_count": 1,
   "id": "0e01360c",
   "metadata": {},
   "outputs": [],
   "source": [
    "def add():\n",
    "    a = 5\n",
    "    b = 6\n",
    "    total = a + b\n",
    "    return total "
   ]
  },
  {
   "cell_type": "code",
   "execution_count": 2,
   "id": "55bc905e",
   "metadata": {},
   "outputs": [
    {
     "data": {
      "text/plain": [
       "11"
      ]
     },
     "execution_count": 2,
     "metadata": {},
     "output_type": "execute_result"
    }
   ],
   "source": [
    "add()"
   ]
  },
  {
   "cell_type": "code",
   "execution_count": 3,
   "id": "a44e0b20",
   "metadata": {},
   "outputs": [],
   "source": [
    "def add(a,b):\n",
    "    total = a + b\n",
    "    return total "
   ]
  },
  {
   "cell_type": "code",
   "execution_count": 4,
   "id": "bb27aa8a",
   "metadata": {},
   "outputs": [
    {
     "data": {
      "text/plain": [
       "11"
      ]
     },
     "execution_count": 4,
     "metadata": {},
     "output_type": "execute_result"
    }
   ],
   "source": [
    "add(5,6)"
   ]
  },
  {
   "cell_type": "code",
   "execution_count": 5,
   "id": "5f0aa835",
   "metadata": {},
   "outputs": [],
   "source": [
    "#create area function \n",
    "# function will take 2 arguments, length and width \n",
    "# room1-10,20\n",
    "# room2 - 20,30\n",
    "# room3 - 30,50\n",
    "# calculate the area of each room and add all results, save it with variable floor"
   ]
  },
  {
   "cell_type": "code",
   "execution_count": 6,
   "id": "c022bcae",
   "metadata": {},
   "outputs": [],
   "source": [
    "def area(l,w):\n",
    "    total = l * w\n",
    "    return total"
   ]
  },
  {
   "cell_type": "code",
   "execution_count": 7,
   "id": "d2cef80d",
   "metadata": {},
   "outputs": [],
   "source": [
    "room1 = area(10,20)"
   ]
  },
  {
   "cell_type": "code",
   "execution_count": 8,
   "id": "5c254a52",
   "metadata": {},
   "outputs": [],
   "source": [
    "\n",
    "room2 = area(20,30)\n",
    "room3 = area(30,50)"
   ]
  },
  {
   "cell_type": "code",
   "execution_count": 9,
   "id": "1b10c6a2",
   "metadata": {},
   "outputs": [],
   "source": [
    "floor = room1 + room2 + room3"
   ]
  },
  {
   "cell_type": "code",
   "execution_count": 11,
   "id": "2d3bc67f",
   "metadata": {},
   "outputs": [
    {
     "data": {
      "text/plain": [
       "2300"
      ]
     },
     "execution_count": 11,
     "metadata": {},
     "output_type": "execute_result"
    }
   ],
   "source": [
    "floor"
   ]
  },
  {
   "cell_type": "code",
   "execution_count": null,
   "id": "be7aa8db",
   "metadata": {},
   "outputs": [],
   "source": []
  }
 ],
 "metadata": {
  "kernelspec": {
   "display_name": "Python 3 (ipykernel)",
   "language": "python",
   "name": "python3"
  },
  "language_info": {
   "codemirror_mode": {
    "name": "ipython",
    "version": 3
   },
   "file_extension": ".py",
   "mimetype": "text/x-python",
   "name": "python",
   "nbconvert_exporter": "python",
   "pygments_lexer": "ipython3",
   "version": "3.10.9"
  }
 },
 "nbformat": 4,
 "nbformat_minor": 5
}
