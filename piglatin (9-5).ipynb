{
 "cells": [
  {
   "cell_type": "code",
   "execution_count": 1,
   "id": "9a2a2097",
   "metadata": {},
   "outputs": [
    {
     "name": "stdout",
     "output_type": "stream",
     "text": [
      "Give me a wordapple\n"
     ]
    }
   ],
   "source": [
    "word = input (\"Give me a word\")"
   ]
  },
  {
   "cell_type": "code",
   "execution_count": null,
   "id": "28437d36",
   "metadata": {},
   "outputs": [],
   "source": []
  },
  {
   "cell_type": "code",
   "execution_count": 2,
   "id": "aad36739",
   "metadata": {},
   "outputs": [
    {
     "name": "stdout",
     "output_type": "stream",
     "text": [
      "appleyay\n"
     ]
    },
    {
     "data": {
      "text/plain": [
       "'apple'"
      ]
     },
     "execution_count": 2,
     "metadata": {},
     "output_type": "execute_result"
    }
   ],
   "source": [
    "def vowel(letter):\n",
    "    if letter in [\"a\", \"e\", \"i\", \"o\", \"u\"]:\n",
    "        return True\n",
    "    else:\n",
    "        return False \n",
    "if vowel (word[0]):\n",
    "    newword = word + \"yay\"\n",
    "    print(newword)\n",
    "else: \n",
    "    for index in range (len(word)):\n",
    "        if vowel (word[index]):\n",
    "            part1 = word[0:index]\n",
    "            part2 = word[index:]\n",
    "            newword = part2 + part1 + \"ay\"\n",
    "            print(newword)\n",
    "word    "
   ]
  },
  {
   "cell_type": "code",
   "execution_count": null,
   "id": "10f56b73",
   "metadata": {},
   "outputs": [],
   "source": []
  },
  {
   "cell_type": "code",
   "execution_count": null,
   "id": "9f651a8c",
   "metadata": {},
   "outputs": [],
   "source": []
  },
  {
   "cell_type": "code",
   "execution_count": null,
   "id": "09abd60d",
   "metadata": {},
   "outputs": [],
   "source": []
  }
 ],
 "metadata": {
  "kernelspec": {
   "display_name": "Python 3 (ipykernel)",
   "language": "python",
   "name": "python3"
  },
  "language_info": {
   "codemirror_mode": {
    "name": "ipython",
    "version": 3
   },
   "file_extension": ".py",
   "mimetype": "text/x-python",
   "name": "python",
   "nbconvert_exporter": "python",
   "pygments_lexer": "ipython3",
   "version": "3.10.9"
  }
 },
 "nbformat": 4,
 "nbformat_minor": 5
}
