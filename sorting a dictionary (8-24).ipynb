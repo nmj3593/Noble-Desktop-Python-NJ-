{
 "cells": [
  {
   "cell_type": "code",
   "execution_count": 1,
   "id": "a2f2dc7b",
   "metadata": {},
   "outputs": [],
   "source": [
    "d = {\"z\": 10, \"a\": 100, \"b\": 200}"
   ]
  },
  {
   "cell_type": "code",
   "execution_count": null,
   "id": "a0d41c0d",
   "metadata": {},
   "outputs": [],
   "source": [
    "def getnumber(t):\n",
    "    return t[1]"
   ]
  },
  {
   "cell_type": "code",
   "execution_count": 3,
   "id": "a206db41",
   "metadata": {},
   "outputs": [],
   "source": [
    "alist = list(d.items())"
   ]
  },
  {
   "cell_type": "code",
   "execution_count": 9,
   "id": "0526ea06",
   "metadata": {},
   "outputs": [],
   "source": [
    "alist.sort(key=getnumber, reverse=True)"
   ]
  },
  {
   "cell_type": "code",
   "execution_count": 10,
   "id": "c49e3da5",
   "metadata": {},
   "outputs": [],
   "source": [
    "t = (\"b\", 200)"
   ]
  },
  {
   "cell_type": "code",
   "execution_count": 11,
   "id": "7f645380",
   "metadata": {},
   "outputs": [],
   "source": [
    "def getnumber(t):\n",
    "    return t[1]"
   ]
  },
  {
   "cell_type": "code",
   "execution_count": 12,
   "id": "c2722d82",
   "metadata": {},
   "outputs": [
    {
     "data": {
      "text/plain": [
       "200"
      ]
     },
     "execution_count": 12,
     "metadata": {},
     "output_type": "execute_result"
    }
   ],
   "source": [
    "getnumber((\"b\",200))"
   ]
  },
  {
   "cell_type": "code",
   "execution_count": 13,
   "id": "b04d790c",
   "metadata": {},
   "outputs": [
    {
     "data": {
      "text/plain": [
       "[('b', 200), ('a', 100), ('z', 10)]"
      ]
     },
     "execution_count": 13,
     "metadata": {},
     "output_type": "execute_result"
    }
   ],
   "source": [
    "alist"
   ]
  },
  {
   "cell_type": "code",
   "execution_count": null,
   "id": "bfe7a237",
   "metadata": {},
   "outputs": [],
   "source": []
  }
 ],
 "metadata": {
  "kernelspec": {
   "display_name": "Python 3 (ipykernel)",
   "language": "python",
   "name": "python3"
  },
  "language_info": {
   "codemirror_mode": {
    "name": "ipython",
    "version": 3
   },
   "file_extension": ".py",
   "mimetype": "text/x-python",
   "name": "python",
   "nbconvert_exporter": "python",
   "pygments_lexer": "ipython3",
   "version": "3.10.9"
  }
 },
 "nbformat": 4,
 "nbformat_minor": 5
}
