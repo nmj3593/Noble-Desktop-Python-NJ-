{
 "cells": [
  {
   "cell_type": "code",
   "execution_count": null,
   "id": "53c77a07",
   "metadata": {},
   "outputs": [],
   "source": [
    "def is_vowel(letter):\n",
    "    if letter in [\"a\", \"e\", \"i\", \"o\", \"u\"]:\n",
    "        return True\n",
    "    else:\n",
    "        return False"
   ]
  },
  {
   "cell_type": "code",
   "execution_count": null,
   "id": "a496e3f7",
   "metadata": {},
   "outputs": [],
   "source": [
    "word = input(\"Give me a word\") "
   ]
  },
  {
   "cell_type": "code",
   "execution_count": null,
   "id": "10b39b7e",
   "metadata": {},
   "outputs": [],
   "source": [
    "if is_vowel(word[0]):\n",
    "    newword = word + \"yay\"\n",
    "    print (newword)\n",
    "else: \n",
    "    for index in range (len(word)):\n",
    "        if is_vowel (word[index]):\n",
    "            part1 = word[0:index]\n",
    "            part2 = word[index:]\n",
    "            newword = part2 + part1 + \"ay\"\n",
    "            print(newword)\n",
    "            break"
   ]
  },
  {
   "cell_type": "code",
   "execution_count": null,
   "id": "2345a6d8",
   "metadata": {},
   "outputs": [],
   "source": [
    "#New Problem"
   ]
  },
  {
   "cell_type": "code",
   "execution_count": 55,
   "id": "d3c311d5",
   "metadata": {},
   "outputs": [
    {
     "name": "stdout",
     "output_type": "stream",
     "text": [
      "31 ?\n",
      "W\n",
      "51 ?\n",
      "S\n"
     ]
    }
   ],
   "source": [
    " string = \"what time do i have to be there? what's the address? see you then.\"\n",
    "\n",
    "string = string.capitalize()\n",
    "\n",
    "string.replace (\" i \",\" I \")\n",
    "\n",
    "punct = [\".\", \"?\", \"!\"]\n",
    "\n",
    "for index in range (len(string)-1):\n",
    "    if string[index] in punct:   \n",
    "        print(index, string[index])\n",
    "        print(string[index+2].capitalize())"
   ]
  },
  {
   "cell_type": "code",
   "execution_count": 59,
   "id": "cc9b7862",
   "metadata": {},
   "outputs": [
    {
     "data": {
      "text/plain": [
       "'What time do i have to be there? '"
      ]
     },
     "execution_count": 59,
     "metadata": {},
     "output_type": "execute_result"
    }
   ],
   "source": [
    "part1 = string[0:33]\n",
    "\n",
    "part2 = string[33:0]"
   ]
  },
  {
   "cell_type": "code",
   "execution_count": null,
   "id": "65791e30",
   "metadata": {},
   "outputs": [],
   "source": []
  }
 ],
 "metadata": {
  "kernelspec": {
   "display_name": "Python 3 (ipykernel)",
   "language": "python",
   "name": "python3"
  },
  "language_info": {
   "codemirror_mode": {
    "name": "ipython",
    "version": 3
   },
   "file_extension": ".py",
   "mimetype": "text/x-python",
   "name": "python",
   "nbconvert_exporter": "python",
   "pygments_lexer": "ipython3",
   "version": "3.10.9"
  }
 },
 "nbformat": 4,
 "nbformat_minor": 5
}
