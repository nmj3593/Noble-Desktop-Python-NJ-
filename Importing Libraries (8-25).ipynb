{
 "cells": [
  {
   "cell_type": "code",
   "execution_count": 1,
   "id": "8b83dae7",
   "metadata": {},
   "outputs": [],
   "source": [
    "import requests "
   ]
  },
  {
   "cell_type": "code",
   "execution_count": 3,
   "id": "618ce1fb",
   "metadata": {},
   "outputs": [],
   "source": [
    "endpoint = \"https://rickandmortyapi.com/api/character\""
   ]
  },
  {
   "cell_type": "code",
   "execution_count": 4,
   "id": "bad65897",
   "metadata": {},
   "outputs": [],
   "source": [
    "response = requests.get(endpoint)"
   ]
  },
  {
   "cell_type": "code",
   "execution_count": 5,
   "id": "dc04a08f",
   "metadata": {},
   "outputs": [
    {
     "data": {
      "text/plain": [
       "<Response [200]>"
      ]
     },
     "execution_count": 5,
     "metadata": {},
     "output_type": "execute_result"
    }
   ],
   "source": [
    "response"
   ]
  },
  {
   "cell_type": "code",
   "execution_count": 1,
   "id": "2dc0c7b2",
   "metadata": {},
   "outputs": [
    {
     "ename": "NameError",
     "evalue": "name 'response' is not defined",
     "output_type": "error",
     "traceback": [
      "\u001b[1;31m---------------------------------------------------------------------------\u001b[0m",
      "\u001b[1;31mNameError\u001b[0m                                 Traceback (most recent call last)",
      "Cell \u001b[1;32mIn[1], line 1\u001b[0m\n\u001b[1;32m----> 1\u001b[0m data \u001b[38;5;241m=\u001b[39m \u001b[43mresponse\u001b[49m\u001b[38;5;241m.\u001b[39mjson()\n\u001b[0;32m      3\u001b[0m data\u001b[38;5;241m.\u001b[39mkeys()\n\u001b[0;32m      5\u001b[0m \u001b[38;5;28mprint\u001b[39m(data\u001b[38;5;241m.\u001b[39mget(\u001b[38;5;124m\"\u001b[39m\u001b[38;5;124minfo\u001b[39m\u001b[38;5;124m\"\u001b[39m)\u001b[38;5;241m.\u001b[39mkeys())\n",
      "\u001b[1;31mNameError\u001b[0m: name 'response' is not defined"
     ]
    }
   ],
   "source": [
    "data = response.json()\n",
    "\n",
    "data.keys()\n",
    "\n",
    "print(data.get(\"info\").keys())"
   ]
  },
  {
   "cell_type": "code",
   "execution_count": 23,
   "id": "1dfccf96",
   "metadata": {},
   "outputs": [],
   "source": [
    "alist = data.get(\"results\")"
   ]
  },
  {
   "cell_type": "code",
   "execution_count": 28,
   "id": "327a6e0e",
   "metadata": {},
   "outputs": [
    {
     "name": "stdout",
     "output_type": "stream",
     "text": [
      "Rick Sanchez\n",
      "Morty Smith\n",
      "Summer Smith\n",
      "Beth Smith\n",
      "Jerry Smith\n",
      "Abadango Cluster Princess\n",
      "Abradolf Lincler\n",
      "Adjudicator Rick\n",
      "Agency Director\n",
      "Alan Rails\n",
      "Albert Einstein\n",
      "Alexander\n",
      "Alien Googah\n",
      "Alien Morty\n",
      "Alien Rick\n",
      "Amish Cyborg\n",
      "Annie\n",
      "Antenna Morty\n",
      "Antenna Rick\n",
      "Ants in my Eyes Johnson\n"
     ]
    }
   ],
   "source": [
    "for i in alist:\n",
    "    print(i.get(\"name\")) "
   ]
  },
  {
   "cell_type": "code",
   "execution_count": null,
   "id": "b89b1a0e",
   "metadata": {},
   "outputs": [],
   "source": []
  }
 ],
 "metadata": {
  "kernelspec": {
   "display_name": "Python 3 (ipykernel)",
   "language": "python",
   "name": "python3"
  },
  "language_info": {
   "codemirror_mode": {
    "name": "ipython",
    "version": 3
   },
   "file_extension": ".py",
   "mimetype": "text/x-python",
   "name": "python",
   "nbconvert_exporter": "python",
   "pygments_lexer": "ipython3",
   "version": "3.10.9"
  }
 },
 "nbformat": 4,
 "nbformat_minor": 5
}
