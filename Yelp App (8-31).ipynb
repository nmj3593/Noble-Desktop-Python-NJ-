{
 "cells": [
  {
   "cell_type": "code",
   "execution_count": 1,
   "id": "f158e24c",
   "metadata": {},
   "outputs": [
    {
     "ename": "NameError",
     "evalue": "name 'b9qhwR2NfL3zgkQsoJ9ndvuJWyTldQ2uJzSK_aetwNTb8UNaGt7riGKZqLahH9l6WTB' is not defined",
     "output_type": "error",
     "traceback": [
      "\u001b[1;31m---------------------------------------------------------------------------\u001b[0m",
      "\u001b[1;31mNameError\u001b[0m                                 Traceback (most recent call last)",
      "Cell \u001b[1;32mIn[1], line 1\u001b[0m\n\u001b[1;32m----> 1\u001b[0m \u001b[43mb9qhwR2NfL3zgkQsoJ9ndvuJWyTldQ2uJzSK_aetwNTb8UNaGt7riGKZqLahH9l6WTB\u001b[49m\u001b[38;5;241m-\u001b[39mMkj6wkQfibbB5eLcEpzb88j2jkLgOzdrxuS6MQRAesFm7QKAjhFkyKbwZHYx\n",
      "\u001b[1;31mNameError\u001b[0m: name 'b9qhwR2NfL3zgkQsoJ9ndvuJWyTldQ2uJzSK_aetwNTb8UNaGt7riGKZqLahH9l6WTB' is not defined"
     ]
    }
   ],
   "source": [
    "b9qhwR2NfL3zgkQsoJ9ndvuJWyTldQ2uJzSK_aetwNTb8UNaGt7riGKZqLahH9l6WTB-Mkj6wkQfibbB5eLcEpzb88j2jkLgOzdrxuS6MQRAesFm7QKAjhFkyKbwZHYx"
   ]
  },
  {
   "cell_type": "code",
   "execution_count": 5,
   "id": "577cba4a",
   "metadata": {},
   "outputs": [],
   "source": [
    "import requests \n",
    "\n",
    "API_KEY = \"b9qhwR2NfL3zgkQsoJ9ndvuJWyTldQ2uJzSK_aetwNTb8UNaGt7riGKZqLahH9l6WTB-Mkj6wkQfibbB5eLcEpzb88j2jkLgOzdrxuS6MQRAesFm7QKAjhFkyKbwZHYx\"\n",
    "\n",
    "headers = {'Authorization': f'Bearer {API_KEY}'}\n",
    "\n",
    "headers\n",
    "\n",
    "params = {'term': 'restaurant', 'location': 'New York City', 'limit': 50}\n",
    "\n",
    "URL = 'https://api.yelp.com/v3/businesses/search'\n",
    "\n",
    "response = requests.get(URL, params=params, headers=headers)\n",
    "\n",
    "response\n",
    "\n",
    "data = response.json()\n",
    "\n",
    "alist = data['businesses']"
   ]
  },
  {
   "cell_type": "code",
   "execution_count": 58,
   "id": "de4273bd",
   "metadata": {},
   "outputs": [
    {
     "name": "stdout",
     "output_type": "stream",
     "text": [
      "Time Out Market New York 55 Water St Food Court $$ False 4.0 Brooklyn 11201 +19178104855 NY\n",
      "Thursday Kitchen 424 E 9th St Korean $$ False 4.5 New York 10009  NY\n",
      "Benemon 108 E 4th St Japanese $$ False 4.5 New York 10003 +12126143006 NY\n",
      "ARIARI 119 1st Ave Korean None False 4.5 New York 10003 +16464227466 NY\n",
      "Kalye 251 Broome St Filipino $$ False 4.5 New York 10002 +16464227267 NY\n",
      "8282 84 Stanton St Korean None False 4.5 New York 10002 +19298370360 NY\n",
      "Salma 351 E 12th St Lebanese $$ False 4.5 New York 10003 +19172614900 NY\n",
      "Em Vietnamese Bistro 57 Front St Vietnamese $$ False 4.5 Brooklyn 11201 +17188757888 NY\n",
      "Ji Bei Chuan 87 Chrystie St Noodles None False 4.5 New York 10002 +19176756754 NY\n",
      "Fishmarket Restaurant 111 South St Seafood $$ False 4.5 New York 10038 +19173638101 NY\n",
      "RH Rooftop Restaurant New York 9 9th Ave American (Traditional) $$$ False 4.0 New York 10014 +12122172210 NY\n",
      "Momofuku Ssam Bar 89 South St Asian Fusion $$$ False 4.0 New York 10038 +12125000831 NY\n",
      "Cecconi's Dumbo 55 Water St Italian $$$ False 3.5 Brooklyn 11201 +17186503900 NY\n",
      "The Nook NYC 199 2nd Ave Korean None False 4.5 New York 10003 +16465902222 NY\n",
      "Thai Diner 186 Mott St Thai $$ False 4.0 New York 10012 +16465594140 NY\n",
      "Bar Lula 132 1st Ave Cocktail Bars None False 4.5 New York 10009 +12127277900 NY\n",
      "The Binc 60 Henry St Cocktail Bars $$ False 4.5 Brooklyn 11201 +17186241444 NY\n",
      "Gelso & Grand 186 Grand St Italian $$ False 4.5 New York 10013 +12122261600 NY\n",
      "Upstate Craft Beer & Oyster Bar 95 1st Ave Seafood $$ False 4.5 New York 10003 +16467915400 NY\n",
      "Mikado 177 Atlantic Ave Japanese None False 5.0 Brooklyn 11201 +12123811388 NY\n",
      "Sobak 51B Canal St Korean $$ False 5.0 New York 10002  NY\n",
      "Dora's Restaurant 40 Ave B Peruvian None False 5.0 New York 10009 +16464845684 NY\n",
      "Paesano of Mulberry Street 136 Mulberry St Italian $$ False 4.0 New York 10013 +12129651188 NY\n",
      "Seamore’s Dumbo 66 Water St Seafood $$ False 4.0 Brooklyn 11201 +17186636550 NY\n",
      "Ingas Bar 66 Hicks St American (New) None False 4.0 Brooklyn 11201 +19179091177 NY\n",
      "Mắm 70 Forsyth St Vietnamese None False 4.5 New York 10002  NY\n",
      "Wan Wan 209 Mulberry St Thai None False 4.5 New York 10012 +12128886278 NY\n",
      "Tasty Hand-Pulled Noodles 1 Doyers St Chinese $$ False 4.0 New York 10013 +12127911817 NY\n",
      "The Tyger 1 Howard St Cocktail Bars $$$ False 4.0 New York 10013 +16463558693 NY\n",
      "High Lúa Vietnamese Kitchen 182 S 2nd St Vietnamese $$ False 4.5 Brooklyn 11211 +13478449666 NY\n",
      "The Hideaway Seaport 22 Peck Slip Bars $$ False 4.0 New York 10038 +12123852222 NY\n",
      "Tokuyamatcha & Onigirazu Bar 627 E 6th St Coffee & Tea $ False 4.5 New York 10009 +12123881276 NY\n",
      "Cloud Vietnamese Restaurant 79 Clinton St Vietnamese None False 5.0 New York 10002 +16463989911 NY\n",
      "Ampersand 294 3rd Ave Cocktail Bars $$ False 4.5 New York 10010 +12124778100 NY\n",
      "La Grande Boucherie 145 W 53rd St French $$$ False 4.5 New York 10019 +12125107714 NY\n",
      "Very Fresh Noodles 409 W 15th St Taiwanese $$ False 4.5 New York 10011 +13322156161 NY\n",
      "Supper 156 E 2nd St Italian $$ False 4.0 New York 10009 +12124777600 NY\n",
      "Little Owl 90 Bedford St Breakfast & Brunch $$$ False 4.0 New York 10014 +12127414695 NY\n",
      "DumboLuv 54 Jay St American (New) None False 4.5 Brooklyn 11201  NY\n",
      "Noodle Pudding 38 Henry St Italian $$ False 4.0 Brooklyn 11201 +17186253737 NY\n",
      "The Little Pig 497 Atlantic Ave Tapas/Small Plates None False 4.5 Brooklyn 11217 +17189549901 NY\n",
      "Al Badawi 151 Atlantic Ave Middle Eastern $$ False 4.5 Brooklyn 11201 +17186895888 NY\n",
      "MONO+MONO 116 E 4th St Korean $$ False 4.0 New York 10003 +19172855034 NY\n",
      "Zhego NYC 38-4 61st St Himalayan/Nepalese None False 4.5 Woodside 11377 +13476423166 NY\n",
      "LĒNA 137 Eldridge St French $$ False 4.5 New York 10002 +13479351897 NY\n",
      "Double Chicken Please 115 Allen St Cocktail Bars $$ False 4.5 New York 10002 +16466785452 NY\n",
      "Balthazar 80 Spring St French $$$ False 4.0 New York 10012 +12129651414 NY\n",
      "Banter 169 Sullivan St Breakfast & Brunch $$ False 4.5 New York 10012  NY\n",
      "The Mayfly 269 E Houston St American (Traditional) None False 4.5 New York 10002 +16464498435 NY\n",
      "The Paris Cafe 119 South St Seafood $$ False 4.0 New York 10038 +16468466270 NY\n"
     ]
    }
   ],
   "source": [
    "data.keys()\n",
    "\n",
    "alist = data.get(\"businesses\")\n",
    "\n",
    "for i in alist: \n",
    "    name = i.get(\"name\")\n",
    "    adress1 = i.get(\"location\").get(\"address1\")\n",
    "    cuisine = i.get(\"categories\")[0].get(\"title\")\n",
    "    try: \n",
    "        price = len(i.get(\"price\"))\n",
    "    except: \n",
    "        price = 0\n",
    "    is_closed =i.get(\"is_closed\")\n",
    "    try:\n",
    "        rating = float(i.get(\"rating\"))\n",
    "    except: \n",
    "        rating =0.0\n",
    "    city = i.get(\"location\").get(\"city\")\n",
    "    zipcode = (i.get(\"location\").get(\"display_address\")[-1][-5:])\n",
    "    image_url = i.get(\"image_url\")\n",
    "    phone_number = i.get(\"phone\")\n",
    "    state = i.get(\"location\").get(\"state\")\n",
    "    print (name, adress1, cuisine, price, is_closed, rating, city, zipcode, phone_number, state)"
   ]
  },
  {
   "cell_type": "code",
   "execution_count": null,
   "id": "0173e973",
   "metadata": {},
   "outputs": [],
   "source": []
  }
 ],
 "metadata": {
  "kernelspec": {
   "display_name": "Python 3 (ipykernel)",
   "language": "python",
   "name": "python3"
  },
  "language_info": {
   "codemirror_mode": {
    "name": "ipython",
    "version": 3
   },
   "file_extension": ".py",
   "mimetype": "text/x-python",
   "name": "python",
   "nbconvert_exporter": "python",
   "pygments_lexer": "ipython3",
   "version": "3.10.9"
  }
 },
 "nbformat": 4,
 "nbformat_minor": 5
}
