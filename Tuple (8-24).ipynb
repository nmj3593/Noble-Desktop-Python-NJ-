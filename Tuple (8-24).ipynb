{
 "cells": [
  {
   "cell_type": "code",
   "execution_count": 1,
   "id": "b3b96de9",
   "metadata": {},
   "outputs": [],
   "source": [
    "alist = [10,20,30,40,50]"
   ]
  },
  {
   "cell_type": "code",
   "execution_count": 2,
   "id": "f6c4f227",
   "metadata": {},
   "outputs": [],
   "source": [
    "alist [1] = 200"
   ]
  },
  {
   "cell_type": "code",
   "execution_count": 3,
   "id": "744c75bb",
   "metadata": {},
   "outputs": [
    {
     "data": {
      "text/plain": [
       "[10, 200, 30, 40, 50]"
      ]
     },
     "execution_count": 3,
     "metadata": {},
     "output_type": "execute_result"
    }
   ],
   "source": [
    "alist"
   ]
  },
  {
   "cell_type": "code",
   "execution_count": 4,
   "id": "9b9a6bc3",
   "metadata": {},
   "outputs": [],
   "source": [
    "t = tuple(alist)"
   ]
  },
  {
   "cell_type": "code",
   "execution_count": 5,
   "id": "4f191f12",
   "metadata": {},
   "outputs": [
    {
     "data": {
      "text/plain": [
       "(10, 200, 30, 40, 50)"
      ]
     },
     "execution_count": 5,
     "metadata": {},
     "output_type": "execute_result"
    }
   ],
   "source": [
    "t"
   ]
  },
  {
   "cell_type": "code",
   "execution_count": 6,
   "id": "b62dcac8",
   "metadata": {},
   "outputs": [],
   "source": [
    "employee =(123, \"John\", \"Johnson\", \"IT\")"
   ]
  },
  {
   "cell_type": "code",
   "execution_count": 7,
   "id": "c9abec2a",
   "metadata": {},
   "outputs": [],
   "source": [
    "number, first, last, dept = employee"
   ]
  },
  {
   "cell_type": "code",
   "execution_count": 8,
   "id": "e8dc5229",
   "metadata": {},
   "outputs": [
    {
     "data": {
      "text/plain": [
       "'John'"
      ]
     },
     "execution_count": 8,
     "metadata": {},
     "output_type": "execute_result"
    }
   ],
   "source": [
    "first"
   ]
  },
  {
   "cell_type": "code",
   "execution_count": null,
   "id": "a25a9fee",
   "metadata": {},
   "outputs": [],
   "source": []
  }
 ],
 "metadata": {
  "kernelspec": {
   "display_name": "Python 3 (ipykernel)",
   "language": "python",
   "name": "python3"
  },
  "language_info": {
   "codemirror_mode": {
    "name": "ipython",
    "version": 3
   },
   "file_extension": ".py",
   "mimetype": "text/x-python",
   "name": "python",
   "nbconvert_exporter": "python",
   "pygments_lexer": "ipython3",
   "version": "3.10.9"
  }
 },
 "nbformat": 4,
 "nbformat_minor": 5
}
