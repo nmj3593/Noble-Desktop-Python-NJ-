{
 "cells": [
  {
   "cell_type": "code",
   "execution_count": 28,
   "id": "d52eba8f",
   "metadata": {},
   "outputs": [],
   "source": [
    "#is the word a palindrome\n",
    "\n",
    "word = \"kayak\""
   ]
  },
  {
   "cell_type": "code",
   "execution_count": 29,
   "id": "04a26249",
   "metadata": {},
   "outputs": [
    {
     "name": "stdout",
     "output_type": "stream",
     "text": [
      "0 k\n",
      "4 k\n",
      "1 a\n",
      "3 a\n"
     ]
    },
    {
     "data": {
      "text/plain": [
       "True"
      ]
     },
     "execution_count": 29,
     "metadata": {},
     "output_type": "execute_result"
    }
   ],
   "source": [
    "midpoint = len(word)//2\n",
    "is_palindrome = True\n",
    "for index in range(midpoint):\n",
    "    print(index, word[index])\n",
    "    print(len(word)-1-index, word[len(word)-1-index])\n",
    "    if word[index] != word[len(word)-1-index]:\n",
    "        is_palindrome = False\n",
    "is_palindrome"
   ]
  },
  {
   "cell_type": "code",
   "execution_count": 9,
   "id": "111b2920",
   "metadata": {},
   "outputs": [],
   "source": []
  },
  {
   "cell_type": "code",
   "execution_count": 10,
   "id": "a6ee9367",
   "metadata": {},
   "outputs": [
    {
     "data": {
      "text/plain": [
       "'r'"
      ]
     },
     "execution_count": 10,
     "metadata": {},
     "output_type": "execute_result"
    }
   ],
   "source": []
  },
  {
   "cell_type": "code",
   "execution_count": null,
   "id": "e94bb355",
   "metadata": {},
   "outputs": [],
   "source": []
  }
 ],
 "metadata": {
  "kernelspec": {
   "display_name": "Python 3 (ipykernel)",
   "language": "python",
   "name": "python3"
  },
  "language_info": {
   "codemirror_mode": {
    "name": "ipython",
    "version": 3
   },
   "file_extension": ".py",
   "mimetype": "text/x-python",
   "name": "python",
   "nbconvert_exporter": "python",
   "pygments_lexer": "ipython3",
   "version": "3.10.9"
  }
 },
 "nbformat": 4,
 "nbformat_minor": 5
}
