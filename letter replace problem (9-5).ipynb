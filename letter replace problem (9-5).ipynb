{
 "cells": [
  {
   "cell_type": "code",
   "execution_count": null,
   "id": "ded566da",
   "metadata": {},
   "outputs": [],
   "source": [
    "word = input (\"Give me a sentance\")"
   ]
  },
  {
   "cell_type": "code",
   "execution_count": null,
   "id": "ac2ccbd5",
   "metadata": {},
   "outputs": [],
   "source": [
    "help(word.replace)\n",
    "    "
   ]
  },
  {
   "cell_type": "code",
   "execution_count": 25,
   "id": "7e129789",
   "metadata": {},
   "outputs": [
    {
     "data": {
      "text/plain": [
       "\"What time do i have to be there? what's the address? let's meet there.\""
      ]
     },
     "execution_count": 25,
     "metadata": {},
     "output_type": "execute_result"
    }
   ],
   "source": [
    "word = \"what time do i have to be there? what's the address? let's meet there.\"\n",
    "word = word.capitalize()\n",
    "word"
   ]
  },
  {
   "cell_type": "code",
   "execution_count": 26,
   "id": "6bb23bcd",
   "metadata": {},
   "outputs": [
    {
     "data": {
      "text/plain": [
       "\"What time do I have to be there? what's the address? let's meet there.\""
      ]
     },
     "execution_count": 26,
     "metadata": {},
     "output_type": "execute_result"
    }
   ],
   "source": [
    "word = word.replace (\" i \", \" I \")\n",
    "word"
   ]
  },
  {
   "cell_type": "code",
   "execution_count": 40,
   "id": "71f0ec17",
   "metadata": {},
   "outputs": [
    {
     "name": "stdout",
     "output_type": "stream",
     "text": [
      "31 W\n",
      "51 L\n"
     ]
    },
    {
     "data": {
      "text/plain": [
       "\"What time do I have to be there? What's the address? Let's meet there.\""
      ]
     },
     "execution_count": 40,
     "metadata": {},
     "output_type": "execute_result"
    }
   ],
   "source": [
    "punclist = [\".\", \"!\", \"?\"]\n",
    "for index in range(len(word)-1):\n",
    "    if word[index] in punclist:\n",
    "        index_letter = index + 2\n",
    "        letter_change= (word[index_letter].capitalize())\n",
    "        print(index, letter_change)\n",
    "        part1 = word[0:index_letter]\n",
    "        part2 = word[index_letter + 1:]\n",
    "        word = part1 + letter_change + part2\n",
    "word   \n"
   ]
  },
  {
   "cell_type": "code",
   "execution_count": 36,
   "id": "5952de0d",
   "metadata": {},
   "outputs": [
    {
     "data": {
      "text/plain": [
       "\"What time do I have to be there? what's the address? Let's meet there.\""
      ]
     },
     "execution_count": 36,
     "metadata": {},
     "output_type": "execute_result"
    }
   ],
   "source": [
    "\n",
    "\n"
   ]
  },
  {
   "cell_type": "code",
   "execution_count": 35,
   "id": "cca45796",
   "metadata": {},
   "outputs": [
    {
     "data": {
      "text/plain": [
       "\"et's meet there.\""
      ]
     },
     "execution_count": 35,
     "metadata": {},
     "output_type": "execute_result"
    }
   ],
   "source": []
  },
  {
   "cell_type": "code",
   "execution_count": null,
   "id": "bc060875",
   "metadata": {},
   "outputs": [],
   "source": []
  }
 ],
 "metadata": {
  "kernelspec": {
   "display_name": "Python 3 (ipykernel)",
   "language": "python",
   "name": "python3"
  },
  "language_info": {
   "codemirror_mode": {
    "name": "ipython",
    "version": 3
   },
   "file_extension": ".py",
   "mimetype": "text/x-python",
   "name": "python",
   "nbconvert_exporter": "python",
   "pygments_lexer": "ipython3",
   "version": "3.10.9"
  }
 },
 "nbformat": 4,
 "nbformat_minor": 5
}
