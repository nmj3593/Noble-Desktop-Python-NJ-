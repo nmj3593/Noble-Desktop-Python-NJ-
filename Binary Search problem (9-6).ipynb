{
 "cells": [
  {
   "cell_type": "code",
   "execution_count": null,
   "id": "81325243",
   "metadata": {},
   "outputs": [],
   "source": [
    "alist = [10, 20, 30, 40, 50, 60, 70]\n",
    "item = 30 \n",
    "found = False \n",
    "start_point = 0\n",
    "end_point = len(alist)-1\n",
    "while start_point <= end_point and not found: \n",
    "    midpoint = (start_point + end_point)//2\n",
    "    if alist[midpoint] == item:\n",
    "        found = True \n",
    "    else: \n",
    "        if alist[midpoint] > item:\n",
    "            end_point = midpoint - 1\n",
    "        else: \n",
    "                start_point = midpoint + 1\n",
    "        \n",
    "found"
   ]
  },
  {
   "cell_type": "code",
   "execution_count": 1,
   "id": "fc330fd5",
   "metadata": {},
   "outputs": [],
   "source": [
    "word = \"apple!\""
   ]
  },
  {
   "cell_type": "code",
   "execution_count": 17,
   "id": "e9a2d911",
   "metadata": {},
   "outputs": [
    {
     "name": "stdout",
     "output_type": "stream",
     "text": [
      "a\n",
      "p\n",
      "p\n",
      "l\n",
      "e\n"
     ]
    },
    {
     "data": {
      "text/plain": [
       "'apple'"
      ]
     },
     "execution_count": 17,
     "metadata": {},
     "output_type": "execute_result"
    }
   ],
   "source": [
    "for letter in word:\n",
    "    if letter.isalpha():\n",
    "        print (letter)\n",
    "    else: \n",
    "        word = word.strip(letter)\n",
    "word"
   ]
  },
  {
   "cell_type": "code",
   "execution_count": 8,
   "id": "81af6c7c",
   "metadata": {},
   "outputs": [
    {
     "name": "stdout",
     "output_type": "stream",
     "text": [
      "Help on built-in function strip:\n",
      "\n",
      "strip(chars=None, /) method of builtins.str instance\n",
      "    Return a copy of the string with leading and trailing whitespace removed.\n",
      "    \n",
      "    If chars is given and not None, remove characters in chars instead.\n",
      "\n"
     ]
    }
   ],
   "source": [
    "help(word.strip)"
   ]
  },
  {
   "cell_type": "code",
   "execution_count": null,
   "id": "9ae58335",
   "metadata": {},
   "outputs": [],
   "source": []
  },
  {
   "cell_type": "code",
   "execution_count": null,
   "id": "e36f89f4",
   "metadata": {},
   "outputs": [],
   "source": []
  }
 ],
 "metadata": {
  "kernelspec": {
   "display_name": "Python 3 (ipykernel)",
   "language": "python",
   "name": "python3"
  },
  "language_info": {
   "codemirror_mode": {
    "name": "ipython",
    "version": 3
   },
   "file_extension": ".py",
   "mimetype": "text/x-python",
   "name": "python",
   "nbconvert_exporter": "python",
   "pygments_lexer": "ipython3",
   "version": "3.10.9"
  }
 },
 "nbformat": 4,
 "nbformat_minor": 5
}
