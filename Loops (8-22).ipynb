{
 "cells": [
  {
   "cell_type": "code",
   "execution_count": 1,
   "id": "f9d36142",
   "metadata": {},
   "outputs": [],
   "source": [
    "#For Loop - control statements "
   ]
  },
  {
   "cell_type": "code",
   "execution_count": 2,
   "id": "0efce54e",
   "metadata": {},
   "outputs": [],
   "source": [
    "friends = [\"Mary\", \"John\", \"Mark\"]"
   ]
  },
  {
   "cell_type": "code",
   "execution_count": 3,
   "id": "2b224917",
   "metadata": {},
   "outputs": [
    {
     "name": "stdout",
     "output_type": "stream",
     "text": [
      "Mary\n",
      "John\n",
      "Mark\n"
     ]
    }
   ],
   "source": [
    "for banana in friends: \n",
    "    print(banana)"
   ]
  },
  {
   "cell_type": "code",
   "execution_count": null,
   "id": "2933f2a5",
   "metadata": {},
   "outputs": [],
   "source": [
    "shopping_list = [\"apples\", \"bananas\", \"mangos\"]\n",
    "item = input (\"What else should I get?\")\n",
    "shopping_list.append(item)\n",
    "\n",
    "for food in shopping_list:\n",
    "    print (\"Do not forget to buy {}\".format (food))\n",
    "    if food == \"beer\":\n",
    "        print (\"Are you old enough to buy a beer?\")"
   ]
  },
  {
   "cell_type": "code",
   "execution_count": null,
   "id": "b6c63b69",
   "metadata": {},
   "outputs": [],
   "source": [
    "numbers = [1,2,3,4,5,5,5,5,5]\n",
    "#use for loop and if there is 3 print yes"
   ]
  },
  {
   "cell_type": "code",
   "execution_count": null,
   "id": "657a9812",
   "metadata": {},
   "outputs": [],
   "source": [
    "for three in numbers:\n",
    "    if three == 3:\n",
    "        print (\"yes\")\n",
    "    else:\n",
    "        print(\"no\")"
   ]
  },
  {
   "cell_type": "code",
   "execution_count": null,
   "id": "1a7e52ca",
   "metadata": {},
   "outputs": [],
   "source": [
    "for banana in numbers:\n",
    "    if three %2 ==0:\n",
    "        print (\"even\")\n",
    "    else:\n",
    "        print (\"odd\")"
   ]
  },
  {
   "cell_type": "code",
   "execution_count": null,
   "id": "62bc4394",
   "metadata": {},
   "outputs": [],
   "source": [
    "counter = 0\n",
    "for banana in numbers:\n",
    "    if banana ==5:\n",
    "        counter = counter + 1\n",
    "print (counter)\n"
   ]
  },
  {
   "cell_type": "code",
   "execution_count": null,
   "id": "304668bb",
   "metadata": {},
   "outputs": [],
   "source": [
    "fruit = \"banana\""
   ]
  },
  {
   "cell_type": "code",
   "execution_count": null,
   "id": "492f8e0a",
   "metadata": {},
   "outputs": [],
   "source": [
    "#count how many \"a\" in banana"
   ]
  },
  {
   "cell_type": "code",
   "execution_count": null,
   "id": "9693195f",
   "metadata": {},
   "outputs": [],
   "source": [
    "counter = 0\n",
    "for banana in fruit:\n",
    "    if banana == \"a\":\n",
    "        counter = counter + 1\n",
    "print (counter)"
   ]
  },
  {
   "cell_type": "code",
   "execution_count": 4,
   "id": "a402a4d8",
   "metadata": {},
   "outputs": [
    {
     "name": "stdout",
     "output_type": "stream",
     "text": [
      "5\n",
      "5\n"
     ]
    }
   ],
   "source": [
    "string = \"apple12345\"\n",
    "\n",
    "#count how many letters and numbers in the string\n",
    "\n",
    "counter_l = 0\n",
    "\n",
    "counter_n = 0\n",
    "\n",
    "for character in string:\n",
    "    if character.isalpha():\n",
    "        counter_l = counter_l + 1\n",
    "    elif character.isdigit():\n",
    "        counter_n=counter_n + 1\n",
    "print (counter_l)\n",
    "print (counter_n)"
   ]
  },
  {
   "cell_type": "code",
   "execution_count": null,
   "id": "eda8ef2d",
   "metadata": {},
   "outputs": [],
   "source": [
    "#1. Ask user how old they are -age\n",
    "#2. if age is over 21 --> come on in \n",
    "#3. if age is less than 21 --> go home\n",
    "#4. else --> not valid data"
   ]
  },
  {
   "cell_type": "code",
   "execution_count": 21,
   "id": "c988a1d9",
   "metadata": {},
   "outputs": [
    {
     "name": "stdout",
     "output_type": "stream",
     "text": [
      "How old are you?r\n",
      "not valid data\n"
     ]
    }
   ],
   "source": [
    "age = input(\"How old are you?\")\n",
    "if age.isdigit():\n",
    "    age = int(age)\n",
    "    if age >= 21:\n",
    "        print (\"come on in\")\n",
    "    elif age < 21:\n",
    "        print (\"Go Home\")\n",
    "else:\n",
    "    print (\"not valid data\")"
   ]
  },
  {
   "cell_type": "code",
   "execution_count": null,
   "id": "b2edd9d6",
   "metadata": {},
   "outputs": [],
   "source": [
    "age = input (\"How old are you?\")"
   ]
  },
  {
   "cell_type": "code",
   "execution_count": null,
   "id": "f0ec99e1",
   "metadata": {},
   "outputs": [],
   "source": []
  }
 ],
 "metadata": {
  "kernelspec": {
   "display_name": "Python 3 (ipykernel)",
   "language": "python",
   "name": "python3"
  },
  "language_info": {
   "codemirror_mode": {
    "name": "ipython",
    "version": 3
   },
   "file_extension": ".py",
   "mimetype": "text/x-python",
   "name": "python",
   "nbconvert_exporter": "python",
   "pygments_lexer": "ipython3",
   "version": "3.10.9"
  }
 },
 "nbformat": 4,
 "nbformat_minor": 5
}
