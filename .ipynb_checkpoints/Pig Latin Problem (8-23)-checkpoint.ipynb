{
 "cells": [
  {
   "cell_type": "code",
   "execution_count": 1,
   "id": "99487d0f",
   "metadata": {},
   "outputs": [],
   "source": [
    "def is_vowel(letter):\n",
    "    if letter in [\"a\", \"e\", \"i\", \"o\", \"u\"]:\n",
    "        return True\n",
    "    else:\n",
    "        return False"
   ]
  },
  {
   "cell_type": "code",
   "execution_count": 31,
   "id": "6199b01a",
   "metadata": {},
   "outputs": [
    {
     "name": "stdout",
     "output_type": "stream",
     "text": [
      "Give me a wordhello\n"
     ]
    }
   ],
   "source": [
    "word = input(\"Give me a word\") "
   ]
  },
  {
   "cell_type": "code",
   "execution_count": 33,
   "id": "c1084b97",
   "metadata": {},
   "outputs": [
    {
     "name": "stdout",
     "output_type": "stream",
     "text": [
      "ellohay\n"
     ]
    }
   ],
   "source": [
    "if is_vowel(word[0]):\n",
    "    newword = word + \"yay\"\n",
    "    print (newword)\n",
    "else: \n",
    "    for index in range (len(word)):\n",
    "        if is_vowel (word[index]):\n",
    "            part1 = word[0:index]\n",
    "            part2 = word[index:]\n",
    "            newword = part2 + part1 + \"ay\"\n",
    "            print(newword)\n",
    "            break"
   ]
  },
  {
   "cell_type": "code",
   "execution_count": 34,
   "id": "420c7d18",
   "metadata": {},
   "outputs": [],
   "source": [
    "#New Problem"
   ]
  },
  {
   "cell_type": "code",
   "execution_count": null,
   "id": "537871ec",
   "metadata": {},
   "outputs": [],
   "source": []
  }
 ],
 "metadata": {
  "kernelspec": {
   "display_name": "Python 3 (ipykernel)",
   "language": "python",
   "name": "python3"
  },
  "language_info": {
   "codemirror_mode": {
    "name": "ipython",
    "version": 3
   },
   "file_extension": ".py",
   "mimetype": "text/x-python",
   "name": "python",
   "nbconvert_exporter": "python",
   "pygments_lexer": "ipython3",
   "version": "3.10.9"
  }
 },
 "nbformat": 4,
 "nbformat_minor": 5
}
