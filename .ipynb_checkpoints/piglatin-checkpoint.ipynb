{
 "cells": [
  {
   "cell_type": "code",
   "execution_count": 7,
   "id": "92d3822d",
   "metadata": {},
   "outputs": [
    {
     "name": "stdout",
     "output_type": "stream",
     "text": [
      "Give me a wordhello\n"
     ]
    }
   ],
   "source": [
    "word = input(\"Give me a word\")"
   ]
  },
  {
   "cell_type": "code",
   "execution_count": 8,
   "id": "087a4786",
   "metadata": {},
   "outputs": [],
   "source": [
    "vowels = [\"a\", \"e\", \"i\", \"o\", \"u\"]"
   ]
  },
  {
   "cell_type": "code",
   "execution_count": 9,
   "id": "c9efd23b",
   "metadata": {},
   "outputs": [
    {
     "data": {
      "text/plain": [
       "'h'"
      ]
     },
     "execution_count": 9,
     "metadata": {},
     "output_type": "execute_result"
    }
   ],
   "source": [
    "word[0]"
   ]
  },
  {
   "cell_type": "code",
   "execution_count": 10,
   "id": "e29d0480",
   "metadata": {},
   "outputs": [],
   "source": [
    "if word[0] in vowels:\n",
    "    word = word + \"yay\"\n",
    "else:\n",
    "    for index in range(len(word)):\n",
    "        if word[index] in vowels: \n",
    "            part1 = word[0:index]\n",
    "            part2 = word[index:]\n",
    "            result = part2 + part1 + \"ay\"\n",
    "            break         \n"
   ]
  },
  {
   "cell_type": "raw",
   "id": "0eb03e1f",
   "metadata": {},
   "source": []
  },
  {
   "cell_type": "code",
   "execution_count": null,
   "id": "e5eaf265",
   "metadata": {},
   "outputs": [],
   "source": []
  },
  {
   "cell_type": "code",
   "execution_count": null,
   "id": "27343648",
   "metadata": {},
   "outputs": [],
   "source": []
  }
 ],
 "metadata": {
  "kernelspec": {
   "display_name": "Python 3 (ipykernel)",
   "language": "python",
   "name": "python3"
  },
  "language_info": {
   "codemirror_mode": {
    "name": "ipython",
    "version": 3
   },
   "file_extension": ".py",
   "mimetype": "text/x-python",
   "name": "python",
   "nbconvert_exporter": "python",
   "pygments_lexer": "ipython3",
   "version": "3.10.9"
  }
 },
 "nbformat": 4,
 "nbformat_minor": 5
}
