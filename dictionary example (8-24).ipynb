{
 "cells": [
  {
   "cell_type": "code",
   "execution_count": 2,
   "id": "b52cf7aa",
   "metadata": {},
   "outputs": [],
   "source": [
    "menu = {}"
   ]
  },
  {
   "cell_type": "code",
   "execution_count": 3,
   "id": "af9a1b9c",
   "metadata": {},
   "outputs": [],
   "source": [
    "menu [\"hamburger\"] = 4.50"
   ]
  },
  {
   "cell_type": "code",
   "execution_count": 4,
   "id": "c1dfdfb1",
   "metadata": {},
   "outputs": [],
   "source": [
    "menu [\"Nachos\"] = 9.99"
   ]
  },
  {
   "cell_type": "code",
   "execution_count": 5,
   "id": "c763695a",
   "metadata": {},
   "outputs": [],
   "source": [
    "menu [\"Salad\"] = 10.00"
   ]
  },
  {
   "cell_type": "code",
   "execution_count": 6,
   "id": "5f27a7bb",
   "metadata": {},
   "outputs": [
    {
     "data": {
      "text/plain": [
       "{'hamburger': 4.5, 'Nachos': 9.99, 'Salad': 10.0}"
      ]
     },
     "execution_count": 6,
     "metadata": {},
     "output_type": "execute_result"
    }
   ],
   "source": [
    "menu"
   ]
  },
  {
   "cell_type": "code",
   "execution_count": 7,
   "id": "81c2f83f",
   "metadata": {},
   "outputs": [
    {
     "data": {
      "text/plain": [
       "4.5"
      ]
     },
     "execution_count": 7,
     "metadata": {},
     "output_type": "execute_result"
    }
   ],
   "source": [
    "menu[\"hamburger\"]"
   ]
  },
  {
   "cell_type": "code",
   "execution_count": null,
   "id": "de7a5d5f",
   "metadata": {},
   "outputs": [],
   "source": [
    "menu.keys()"
   ]
  },
  {
   "cell_type": "code",
   "execution_count": null,
   "id": "b01aec69",
   "metadata": {},
   "outputs": [],
   "source": [
    "#Ask user what user would like to eat -->Assign to variable \"item1\"\n",
    "#Ask user what else they would like to get --> \"item2\"\n",
    "#Get prices of item1 and item2 and print the total the user should pay"
   ]
  },
  {
   "cell_type": "code",
   "execution_count": null,
   "id": "71940b4f",
   "metadata": {},
   "outputs": [],
   "source": [
    "item1 = input(\"What would you like to eat?\")\n",
    "item2 = input(\"What else would you like to eat?\")\n",
    "\n",
    "menu[item1]\n",
    "\n",
    "menu[item2]\n",
    "\n",
    "total = menu[item1] + menu[item2]\n",
    "\n",
    "total\n",
    "\n"
   ]
  },
  {
   "cell_type": "code",
   "execution_count": 8,
   "id": "bd3d1e4c",
   "metadata": {},
   "outputs": [
    {
     "data": {
      "text/plain": [
       "4.5"
      ]
     },
     "execution_count": 8,
     "metadata": {},
     "output_type": "execute_result"
    }
   ],
   "source": [
    "menu.get(\"hamburger\", \"Nope\")"
   ]
  },
  {
   "cell_type": "code",
   "execution_count": 9,
   "id": "f983cf1b",
   "metadata": {},
   "outputs": [
    {
     "data": {
      "text/plain": [
       "3"
      ]
     },
     "execution_count": 9,
     "metadata": {},
     "output_type": "execute_result"
    }
   ],
   "source": [
    "len(menu)"
   ]
  },
  {
   "cell_type": "code",
   "execution_count": 10,
   "id": "50dc4d96",
   "metadata": {},
   "outputs": [
    {
     "name": "stdout",
     "output_type": "stream",
     "text": [
      "hamburger\n",
      "Nachos\n",
      "Salad\n"
     ]
    }
   ],
   "source": [
    "for item in menu:\n",
    "    print (item)"
   ]
  },
  {
   "cell_type": "code",
   "execution_count": 11,
   "id": "6578ddd2",
   "metadata": {},
   "outputs": [
    {
     "name": "stdout",
     "output_type": "stream",
     "text": [
      "hamburger 4.5\n",
      "Nachos 9.99\n",
      "Salad 10.0\n"
     ]
    }
   ],
   "source": [
    "for item in menu:\n",
    "    print(item, menu[item])"
   ]
  },
  {
   "cell_type": "code",
   "execution_count": 12,
   "id": "dfa6934c",
   "metadata": {},
   "outputs": [
    {
     "data": {
      "text/plain": [
       "dict_items([('hamburger', 4.5), ('Nachos', 9.99), ('Salad', 10.0)])"
      ]
     },
     "execution_count": 12,
     "metadata": {},
     "output_type": "execute_result"
    }
   ],
   "source": [
    "menu.items()"
   ]
  },
  {
   "cell_type": "code",
   "execution_count": 13,
   "id": "c59e08bc",
   "metadata": {},
   "outputs": [],
   "source": [
    "a,b = (\"hamburger\", 4.5)"
   ]
  },
  {
   "cell_type": "code",
   "execution_count": 14,
   "id": "d1749363",
   "metadata": {},
   "outputs": [
    {
     "data": {
      "text/plain": [
       "'hamburger'"
      ]
     },
     "execution_count": 14,
     "metadata": {},
     "output_type": "execute_result"
    }
   ],
   "source": [
    "a"
   ]
  },
  {
   "cell_type": "code",
   "execution_count": 15,
   "id": "1a82b44e",
   "metadata": {},
   "outputs": [
    {
     "name": "stdout",
     "output_type": "stream",
     "text": [
      "hamburger 4.5\n",
      "Nachos 9.99\n",
      "Salad 10.0\n"
     ]
    }
   ],
   "source": [
    "for key, value in menu.items():\n",
    "    print(key,value)"
   ]
  },
  {
   "cell_type": "code",
   "execution_count": 16,
   "id": "a194ce22",
   "metadata": {},
   "outputs": [],
   "source": [
    "sale = {}"
   ]
  },
  {
   "cell_type": "code",
   "execution_count": 17,
   "id": "68c3e112",
   "metadata": {},
   "outputs": [],
   "source": [
    "for i in menu:\n",
    "    sale[i] =(menu[i] *.9)"
   ]
  },
  {
   "cell_type": "code",
   "execution_count": 18,
   "id": "c2bb59c2",
   "metadata": {},
   "outputs": [
    {
     "data": {
      "text/plain": [
       "{'hamburger': (4.05, 2), 'Nachos': (8.991, 2), 'Salad': (9.0, 2)}"
      ]
     },
     "execution_count": 18,
     "metadata": {},
     "output_type": "execute_result"
    }
   ],
   "source": [
    "sale"
   ]
  },
  {
   "cell_type": "code",
   "execution_count": null,
   "id": "3a2701bd",
   "metadata": {},
   "outputs": [],
   "source": []
  }
 ],
 "metadata": {
  "kernelspec": {
   "display_name": "Python 3 (ipykernel)",
   "language": "python",
   "name": "python3"
  },
  "language_info": {
   "codemirror_mode": {
    "name": "ipython",
    "version": 3
   },
   "file_extension": ".py",
   "mimetype": "text/x-python",
   "name": "python",
   "nbconvert_exporter": "python",
   "pygments_lexer": "ipython3",
   "version": "3.10.9"
  }
 },
 "nbformat": 4,
 "nbformat_minor": 5
}
