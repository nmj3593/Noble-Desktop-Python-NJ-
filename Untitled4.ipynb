{
 "cells": [
  {
   "cell_type": "code",
   "execution_count": 1,
   "id": "dff51cae",
   "metadata": {},
   "outputs": [],
   "source": [
    "word = \"banana\""
   ]
  },
  {
   "cell_type": "code",
   "execution_count": 2,
   "id": "017e745f",
   "metadata": {},
   "outputs": [],
   "source": [
    "#Count how many \"a\"s are in the word "
   ]
  },
  {
   "cell_type": "code",
   "execution_count": 6,
   "id": "a61abef0",
   "metadata": {},
   "outputs": [],
   "source": [
    "count = 0\n",
    "for letter in word:\n",
    "    if letter==\"a\":\n",
    "        count = count +1\n",
    "\n",
    "count"
   ]
  },
  {
   "cell_type": "code",
   "execution_count": 16,
   "id": "c1c15063",
   "metadata": {},
   "outputs": [],
   "source": [
    "word = \"banana\"\n",
    "d={}\n",
    "\n",
    "for letter in word:\n",
    "    if letter in d:\n",
    "        d[letter]=d[letter]+1\n",
    "    else: \n",
    "        d[letter] = 1\n",
    "d\n"
   ]
  },
  {
   "cell_type": "code",
   "execution_count": 20,
   "id": "7a14b2d1",
   "metadata": {},
   "outputs": [],
   "source": [
    "numbers = [1,1,1,1,1,1,0,1,1,1]"
   ]
  },
  {
   "cell_type": "code",
   "execution_count": 21,
   "id": "63f25ff6",
   "metadata": {},
   "outputs": [],
   "source": [
    "#use for loop and function range to replace 0 with 1"
   ]
  },
  {
   "cell_type": "code",
   "execution_count": 34,
   "id": "12cfa74e",
   "metadata": {},
   "outputs": [
    {
     "data": {
      "text/plain": [
       "[1, 1, 1, 1, 1, 1, 1, 1, 1, 1]"
      ]
     },
     "execution_count": 34,
     "metadata": {},
     "output_type": "execute_result"
    }
   ],
   "source": [
    "\n",
    "for index in range(len(numbers)):\n",
    "    if numbers[index] == 0:\n",
    "        numbers[index] =1\n",
    "numbers"
   ]
  },
  {
   "cell_type": "code",
   "execution_count": 35,
   "id": "ef0d3ef2",
   "metadata": {},
   "outputs": [],
   "source": [
    "#perform pig latin"
   ]
  },
  {
   "cell_type": "code",
   "execution_count": 48,
   "id": "9e201f30",
   "metadata": {},
   "outputs": [
    {
     "data": {
      "text/plain": [
       "'pythonay'"
      ]
     },
     "execution_count": 48,
     "metadata": {},
     "output_type": "execute_result"
    }
   ],
   "source": [
    "word =\"python\"\n",
    "for letter in word[0]: \n",
    "    if letter in [\"a\", \"e\", \"i\", \"o\", \"u\"]:\n",
    "        word = word + \"yay\"\n",
    "    else:\n",
    "        for index in range (len(word)):\n",
    "            if letter in word[index]:\n",
    "                part1 = word[0:index]\n",
    "                part2 = word[index:]\n",
    "                newword= part2 +part1 + \"ay\"\n",
    "newword"
   ]
  },
  {
   "cell_type": "code",
   "execution_count": 63,
   "id": "4836302b",
   "metadata": {},
   "outputs": [
    {
     "name": "stdout",
     "output_type": "stream",
     "text": [
      "Rick Sanchez\n",
      "Human\n",
      "Morty Smith\n",
      "Human\n",
      "Summer Smith\n",
      "Human\n",
      "Beth Smith\n",
      "Human\n",
      "Jerry Smith\n",
      "Human\n",
      "Abadango Cluster Princess\n",
      "Alien\n",
      "Abradolf Lincler\n",
      "Human\n",
      "Adjudicator Rick\n",
      "Human\n",
      "Agency Director\n",
      "Human\n",
      "Alan Rails\n",
      "Human\n",
      "Albert Einstein\n",
      "Human\n",
      "Alexander\n",
      "Human\n",
      "Alien Googah\n",
      "Alien\n",
      "Alien Morty\n",
      "Alien\n",
      "Alien Rick\n",
      "Alien\n",
      "Amish Cyborg\n",
      "Alien\n",
      "Annie\n",
      "Human\n",
      "Antenna Morty\n",
      "Human\n",
      "Antenna Rick\n",
      "Human\n",
      "Ants in my Eyes Johnson\n",
      "Human\n"
     ]
    }
   ],
   "source": [
    "import requests\n",
    "url = \"https://rickandmortyapi.com/api/character\"\n",
    "response = requests.get(url)\n",
    "\n",
    "data=response.json()\n",
    "data.keys()\n",
    "\n",
    "alist = data.get(\"results\")\n",
    "for i in alist:\n",
    "    print (i.get(\"name\"))\n",
    "    print (i.get(\"species\"))             "
   ]
  },
  {
   "cell_type": "code",
   "execution_count": 73,
   "id": "455449a3",
   "metadata": {},
   "outputs": [
    {
     "data": {
      "text/plain": [
       "{'Hamburger': 5.175, 'Nachos': 8.991, 'Salad': 5.391}"
      ]
     },
     "execution_count": 73,
     "metadata": {},
     "output_type": "execute_result"
    }
   ],
   "source": [
    "menu = {\"Hamburger\": 5.75, \"Nachos\": 9.99, \"Salad\":5.99}\n",
    "sale={}\n",
    "for i in menu:\n",
    "    sale[i]=menu[i]*.9\n",
    "sale"
   ]
  },
  {
   "cell_type": "code",
   "execution_count": 74,
   "id": "28843bcd",
   "metadata": {},
   "outputs": [
    {
     "data": {
      "text/plain": [
       "True"
      ]
     },
     "execution_count": 74,
     "metadata": {},
     "output_type": "execute_result"
    }
   ],
   "source": [
    "#anagrams\n",
    "{'d':2, 'a':1}=={'a':1, 'd':2}"
   ]
  },
  {
   "cell_type": "code",
   "execution_count": 93,
   "id": "c60fa75d",
   "metadata": {},
   "outputs": [],
   "source": [
    "word1 =\"banana\"\n",
    "word2 =\"apple\""
   ]
  },
  {
   "cell_type": "code",
   "execution_count": 95,
   "id": "0b875bd0",
   "metadata": {},
   "outputs": [],
   "source": [
    "def word_1(word1):\n",
    "    d={}\n",
    "    for letter in word1:\n",
    "        if letter in d:\n",
    "            d[letter]=d[letter] + 1\n",
    "        else:\n",
    "            d[letter] = 1\n",
    "\n",
    "            \n",
    "def word_2(word2):\n",
    "    d={}\n",
    "    for letter in word1:\n",
    "        if letter in d:\n",
    "            d[letter]=d[letter] + 1\n",
    "        else:\n",
    "            d[letter] = 1           \n",
    "if word_1 ==word"
   ]
  },
  {
   "cell_type": "code",
   "execution_count": null,
   "id": "0310836c",
   "metadata": {},
   "outputs": [],
   "source": []
  },
  {
   "cell_type": "code",
   "execution_count": null,
   "id": "f6681b8d",
   "metadata": {},
   "outputs": [],
   "source": []
  },
  {
   "cell_type": "code",
   "execution_count": null,
   "id": "c8c004c3",
   "metadata": {},
   "outputs": [],
   "source": []
  }
 ],
 "metadata": {
  "kernelspec": {
   "display_name": "Python 3 (ipykernel)",
   "language": "python",
   "name": "python3"
  },
  "language_info": {
   "codemirror_mode": {
    "name": "ipython",
    "version": 3
   },
   "file_extension": ".py",
   "mimetype": "text/x-python",
   "name": "python",
   "nbconvert_exporter": "python",
   "pygments_lexer": "ipython3",
   "version": "3.10.9"
  }
 },
 "nbformat": 4,
 "nbformat_minor": 5
}
