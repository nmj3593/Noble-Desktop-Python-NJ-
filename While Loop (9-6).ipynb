{
 "cells": [
  {
   "cell_type": "code",
   "execution_count": null,
   "id": "32da6f73",
   "metadata": {},
   "outputs": [],
   "source": [
    "word =input(\"What should I get\")\n",
    "food_list =[]\n",
    "while word != \"stop\":\n",
    "    if word in food_list:\n",
    "        print (\"you already have that\")\n",
    "    else:    \n",
    "        food_list.append(word)\n",
    "    print (\"add item to shopping list\")\n",
    "    word = input(\"What should I get\")\n",
    "    "
   ]
  },
  {
   "cell_type": "code",
   "execution_count": null,
   "id": "8e289afd",
   "metadata": {},
   "outputs": [],
   "source": [
    "food_list"
   ]
  },
  {
   "cell_type": "code",
   "execution_count": null,
   "id": "d862c79a",
   "metadata": {},
   "outputs": [],
   "source": []
  }
 ],
 "metadata": {
  "kernelspec": {
   "display_name": "Python 3 (ipykernel)",
   "language": "python",
   "name": "python3"
  },
  "language_info": {
   "codemirror_mode": {
    "name": "ipython",
    "version": 3
   },
   "file_extension": ".py",
   "mimetype": "text/x-python",
   "name": "python",
   "nbconvert_exporter": "python",
   "pygments_lexer": "ipython3",
   "version": "3.10.9"
  }
 },
 "nbformat": 4,
 "nbformat_minor": 5
}
