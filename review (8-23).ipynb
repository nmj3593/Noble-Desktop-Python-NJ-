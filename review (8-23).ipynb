{
 "cells": [
  {
   "cell_type": "code",
   "execution_count": 1,
   "id": "9857f055",
   "metadata": {},
   "outputs": [],
   "source": [
    "#word = \"racecar\""
   ]
  },
  {
   "cell_type": "code",
   "execution_count": 2,
   "id": "8f2d8aa9",
   "metadata": {},
   "outputs": [],
   "source": [
    "word = \"racecar\""
   ]
  },
  {
   "cell_type": "code",
   "execution_count": 12,
   "id": "d9f4be71",
   "metadata": {},
   "outputs": [
    {
     "name": "stdout",
     "output_type": "stream",
     "text": [
      "race\n",
      "car\n"
     ]
    }
   ],
   "source": [
    "part1 = word [0:4]\n",
    "part2 = word [4:]\n",
    "print (part1)\n",
    "print (part2)"
   ]
  },
  {
   "cell_type": "code",
   "execution_count": 13,
   "id": "9a363291",
   "metadata": {},
   "outputs": [],
   "source": [
    "#check if there is letter \"e\" in the word, print just that letter"
   ]
  },
  {
   "cell_type": "code",
   "execution_count": 14,
   "id": "84326b9e",
   "metadata": {},
   "outputs": [],
   "source": [
    "word = \"racecar\""
   ]
  },
  {
   "cell_type": "code",
   "execution_count": 35,
   "id": "6ecd1741",
   "metadata": {},
   "outputs": [
    {
     "name": "stdout",
     "output_type": "stream",
     "text": [
      "e 3\n"
     ]
    }
   ],
   "source": [
    "for i in word:\n",
    "    if i == \"e\":\n",
    "        index = word.index(i)\n",
    "        print (i,index)"
   ]
  },
  {
   "cell_type": "code",
   "execution_count": 32,
   "id": "1d7d46a9",
   "metadata": {},
   "outputs": [
    {
     "data": {
      "text/plain": [
       "<method 'index' of 'str' objects>"
      ]
     },
     "execution_count": 32,
     "metadata": {},
     "output_type": "execute_result"
    }
   ],
   "source": [
    "str.index"
   ]
  },
  {
   "cell_type": "code",
   "execution_count": null,
   "id": "1705bf5b",
   "metadata": {},
   "outputs": [],
   "source": []
  }
 ],
 "metadata": {
  "kernelspec": {
   "display_name": "Python 3 (ipykernel)",
   "language": "python",
   "name": "python3"
  },
  "language_info": {
   "codemirror_mode": {
    "name": "ipython",
    "version": 3
   },
   "file_extension": ".py",
   "mimetype": "text/x-python",
   "name": "python",
   "nbconvert_exporter": "python",
   "pygments_lexer": "ipython3",
   "version": "3.10.9"
  }
 },
 "nbformat": 4,
 "nbformat_minor": 5
}
